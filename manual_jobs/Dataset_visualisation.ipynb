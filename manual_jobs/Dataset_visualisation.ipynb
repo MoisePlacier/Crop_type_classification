{
 "cells": [
  {
   "cell_type": "markdown",
   "id": "d6e40262",
   "metadata": {},
   "source": [
    "# Visualise \"ground truth\" dataset"
   ]
  },
  {
   "cell_type": "code",
   "execution_count": 9,
   "id": "b5ee652b",
   "metadata": {},
   "outputs": [],
   "source": [
    "import os\n",
    "\n",
    "OUTPUT_PATH = \"../plots/png\"\n",
    "\n",
    "# make output folder if needed\n",
    "os.makedirs(OUTPUT_PATH, exist_ok=True)"
   ]
  },
  {
   "cell_type": "markdown",
   "id": "c35a5cca",
   "metadata": {},
   "source": [
    "### Checking all keys in dataset and their format"
   ]
  },
  {
   "cell_type": "code",
   "execution_count": null,
   "id": "18d97431",
   "metadata": {},
   "outputs": [
    {
     "name": "stdout",
     "output_type": "stream",
     "text": [
      "\n",
      "Keys found in the HDF5 file:\n",
      "- ID_Parcelles : shape=(14836, 24, 24), dtype=float32\n",
      "- coords : shape=(14836, 2), dtype=float64\n",
      "- data : shape=(14836, 12, 4, 24, 24), dtype=float32\n",
      "- dates : shape=(14836,), dtype=object\n",
      "- labels : shape=(14836, 24, 24), dtype=float32\n",
      "- zones : shape=(14836,), dtype=object\n"
     ]
    }
   ],
   "source": [
    "import h5py\n",
    "\n",
    "with h5py.File(\"../data/dataset.h5\", 'r') as f:\n",
    "    print(\"\\nKeys found in the HDF5 file:\")\n",
    "    for key in f.keys():\n",
    "        data = f[key]\n",
    "        print(f\"- {key} : shape={data.shape}, dtype={data.dtype}\")"
   ]
  },
  {
   "cell_type": "markdown",
   "id": "ed647c0d",
   "metadata": {},
   "source": [
    "### Load useful keys for visualisation computation"
   ]
  },
  {
   "cell_type": "code",
   "execution_count": 17,
   "id": "5a56a9e8",
   "metadata": {},
   "outputs": [
    {
     "data": {
      "text/plain": [
       "array([[[ 0.,  0.,  0., ...,  0.,  0.,  0.],\n",
       "        [ 0.,  0.,  0., ...,  0.,  0.,  0.],\n",
       "        [ 0.,  0.,  0., ...,  0.,  0.,  0.],\n",
       "        ...,\n",
       "        [ 0.,  0.,  0., ...,  0.,  0.,  0.],\n",
       "        [ 0.,  0.,  0., ...,  0.,  0.,  0.],\n",
       "        [25.,  0.,  0., ...,  0.,  0.,  0.]],\n",
       "\n",
       "       [[ 0.,  0.,  0., ...,  0.,  0.,  0.],\n",
       "        [ 0.,  0.,  0., ...,  0.,  0.,  0.],\n",
       "        [ 0.,  0.,  0., ...,  0.,  0.,  0.],\n",
       "        ...,\n",
       "        [ 0.,  0.,  0., ...,  0.,  0.,  0.],\n",
       "        [ 0.,  0.,  0., ...,  0.,  0.,  0.],\n",
       "        [ 0.,  0.,  0., ...,  0.,  0.,  0.]],\n",
       "\n",
       "       [[ 0.,  0.,  0., ..., 14., 14., 14.],\n",
       "        [ 0.,  0.,  0., ..., 14., 14., 14.],\n",
       "        [ 0.,  0.,  0., ..., 14., 14., 14.],\n",
       "        ...,\n",
       "        [ 0.,  0.,  0., ..., 14., 14., 14.],\n",
       "        [ 0.,  0.,  0., ..., 14., 14., 14.],\n",
       "        [ 0.,  0.,  0., ..., 14., 14., 14.]],\n",
       "\n",
       "       ...,\n",
       "\n",
       "       [[ 0.,  0.,  0., ...,  0.,  0.,  0.],\n",
       "        [ 0.,  0.,  0., ...,  0.,  0.,  0.],\n",
       "        [ 0.,  0.,  0., ...,  0.,  0.,  0.],\n",
       "        ...,\n",
       "        [25., 25., 25., ...,  0.,  0.,  0.],\n",
       "        [25., 25., 25., ...,  0.,  0.,  0.],\n",
       "        [25., 25., 25., ...,  0.,  0.,  0.]],\n",
       "\n",
       "       [[ 0.,  0.,  0., ...,  0.,  0.,  0.],\n",
       "        [ 0.,  0.,  0., ...,  0.,  0.,  0.],\n",
       "        [ 0.,  0.,  0., ...,  0.,  0.,  0.],\n",
       "        ...,\n",
       "        [ 0.,  0.,  0., ..., 25., 25., 25.],\n",
       "        [ 0.,  0.,  0., ...,  0., 25., 25.],\n",
       "        [ 0.,  0., 25., ...,  0.,  0., 25.]],\n",
       "\n",
       "       [[ 0.,  0.,  0., ..., 25., 25., 25.],\n",
       "        [ 0.,  0.,  0., ..., 25., 25., 25.],\n",
       "        [ 0.,  0.,  0., ..., 25., 25., 25.],\n",
       "        ...,\n",
       "        [25., 25., 25., ..., 25., 25., 25.],\n",
       "        [25., 25., 25., ..., 25., 25., 25.],\n",
       "        [25., 25., 25., ..., 25., 25., 25.]]],\n",
       "      shape=(14836, 24, 24), dtype=float32)"
      ]
     },
     "execution_count": 17,
     "metadata": {},
     "output_type": "execute_result"
    }
   ],
   "source": [
    "with h5py.File(\"../data/dataset.h5\", 'r') as f:\n",
    "    data = f['data'][:]\n",
    "    labels = f['labels'][:]\n",
    "    coords = f['coords'][:]\n",
    "    dates = f['dates'][:]\n",
    "\n",
    "labels"
   ]
  },
  {
   "cell_type": "markdown",
   "id": "5d43d136",
   "metadata": {},
   "source": [
    "## Visualisation part"
   ]
  },
  {
   "cell_type": "markdown",
   "id": "d3d70b0f",
   "metadata": {},
   "source": [
    "### Label distribution"
   ]
  },
  {
   "cell_type": "code",
   "execution_count": null,
   "id": "fae652ee",
   "metadata": {},
   "outputs": [],
   "source": [
    "import matplotlib.pyplot as plt\n",
    "import numpy as np\n",
    "\n",
    "# flatten all pixel labels\n",
    "flat = labels.ravel()\n",
    "uniq, counts = np.unique(flat, return_counts=True)\n",
    "\n",
    "# sort by counts descending\n",
    "sort_idx = np.argsort(counts)[::-1]\n",
    "uniq_sorted  = uniq[sort_idx]\n",
    "counts_sorted = counts[sort_idx]\n",
    "\n",
    "# convert labels to strings for ticks\n",
    "label_strs = uniq_sorted.astype(int).astype(str)\n",
    "\n",
    "plt.figure(figsize=(8, 5))\n",
    "plt.bar(label_strs, counts_sorted)\n",
    "plt.xlabel('Label')\n",
    "plt.ylabel('Pixel count')\n",
    "plt.yscale('log') # Help to see low represented labels\n",
    "plt.title('Global Pixel-Level Label Distribution (sorted)')\n",
    "plt.xticks(rotation=45)\n",
    "plt.savefig(OUTPUT_PATH+\"/label_distribution.png\")\n",
    "plt.show()\n",
    "plt.close()\n"
   ]
  },
  {
   "cell_type": "markdown",
   "id": "e0aeaf6f",
   "metadata": {},
   "source": [
    "### Patchs example with RGBI bands and True Labels"
   ]
  },
  {
   "cell_type": "code",
   "execution_count": null,
   "id": "9208bc71",
   "metadata": {},
   "outputs": [
    {
     "name": "stderr",
     "output_type": "stream",
     "text": [
      "Clipping input data to the valid range for imshow with RGB data ([0..1] for floats or [0..255] for integers). Got range [0.0..1.1225296].\n",
      "Clipping input data to the valid range for imshow with RGB data ([0..1] for floats or [0..255] for integers). Got range [0.0..1.0461216].\n",
      "Clipping input data to the valid range for imshow with RGB data ([0..1] for floats or [0..255] for integers). Got range [0.0..1.1091834].\n"
     ]
    }
   ],
   "source": [
    "n_examples=3\n",
    "\n",
    "N, T, B, H, W = data.shape\n",
    "\n",
    "picks = np.random.choice(N, size=n_examples, replace=False)\n",
    "fig, axes = plt.subplots(2, n_examples, figsize=(n_examples*3, 6))\n",
    "for i, idx in enumerate(picks):\n",
    "    # RGB at first time\n",
    "    patch = data[idx, 0]  # (B, H, W)\n",
    "    rgb = np.stack([patch[2], patch[1], patch[0]], axis=-1)\n",
    "    axes[0,i].imshow(rgb / np.percentile(rgb,98))\n",
    "    axes[0,i].axis('off')\n",
    "    axes[0,i].set_title(f'Patch {idx}')\n",
    "    # label map\n",
    "    axes[1,i].imshow(labels[idx], cmap='tab20')\n",
    "    axes[1,i].axis('off')\n",
    "fig.suptitle('Example Patches (Top: RGB t0; Bottom: Labels)')\n",
    "plt.tight_layout()\n",
    "plt.savefig(OUTPUT_PATH+\"/patch_example.png\")\n",
    "plt.show()\n",
    "plt.close()\n"
   ]
  },
  {
   "cell_type": "markdown",
   "id": "f5e83251",
   "metadata": {},
   "source": [
    "### Band value distribution\n",
    "\n",
    "It's helpfull to control :\n",
    "- Pixel distribution for each band\n",
    "- If there is no saturated band\n",
    "- If we need to normalised values or if it's well distributed\n",
    "- Detect some artefact or missing value\n",
    "\n",
    "*X-axis correspond to every pixels (flatten), Y-axis correspond to the value of corresponding pixel for this particular band.*"
   ]
  },
  {
   "cell_type": "code",
   "execution_count": null,
   "id": "0fcbe0de",
   "metadata": {},
   "outputs": [],
   "source": [
    "# flatten per band over all samples and times\n",
    "_, T, B, H, W = data.shape\n",
    "for b in range(B):\n",
    "    vals = data[:, :, b].ravel()\n",
    "    plt.figure(figsize=(6,4))\n",
    "    plt.hist(vals, bins=200, log=True)\n",
    "    plt.xlabel('Pixel value')\n",
    "    plt.ylabel('Frequency (log)')\n",
    "    plt.title(f'Band index {b} histogram')\n",
    "    plt.tight_layout()\n",
    "    plt.savefig(os.path.join(OUTPUT_PATH, f'band_{b}_hist.png'))\n",
    "    plt.show()\n",
    "    plt.close()\n"
   ]
  },
  {
   "cell_type": "markdown",
   "id": "37fba52c",
   "metadata": {},
   "source": [
    "### Compute NDVI for few random patches\n",
    "\n",
    "**NDVI** stands for **Normalized Difference Vegetation Index**. \n",
    "It's a commonly used indicator in remote sensing to measure vegetation health."
   ]
  },
  {
   "cell_type": "code",
   "execution_count": null,
   "id": "563a1b80",
   "metadata": {},
   "outputs": [],
   "source": [
    "# NDVI = (B8 - B4)/(B8 + B4) = (band 3 - band 2)/(band 3 + band 2) zero-based\n",
    "N, T, B, H, W = data.shape\n",
    "n_profiles = 5\n",
    "\n",
    "picks = np.random.choice(N, size=n_profiles, replace=False)\n",
    "time_axis = np.arange(T)  # [0, 1, ..., 11]\n",
    "\n",
    "plt.figure(figsize=(8, 5))\n",
    "for idx in picks:\n",
    "    patch = data[idx]  # shape (T, B, H, W)\n",
    "    B4 = patch[:, 2].mean(axis=(1, 2))  # Red\n",
    "    B8 = patch[:, 3].mean(axis=(1, 2))  # NIR\n",
    "    ndvi = (B8 - B4) / (B8 + B4 + 1e-6)\n",
    "    plt.plot(time_axis, ndvi, marker='o', label=f'Patch {idx}')\n",
    "\n",
    "plt.xlabel('Time step')\n",
    "plt.ylabel('Mean NDVI')\n",
    "plt.title('Mean NDVI Over Time (Random Patches)')\n",
    "plt.legend()\n",
    "plt.tight_layout()\n",
    "plt.savefig(OUTPUT_PATH+\"/ndvi.png\")\n",
    "plt.show()\n",
    "plt.close()"
   ]
  }
 ],
 "metadata": {
  "kernelspec": {
   "display_name": "Python 3",
   "language": "python",
   "name": "python3"
  },
  "language_info": {
   "codemirror_mode": {
    "name": "ipython",
    "version": 3
   },
   "file_extension": ".py",
   "mimetype": "text/x-python",
   "name": "python",
   "nbconvert_exporter": "python",
   "pygments_lexer": "ipython3",
   "version": "3.11.9"
  }
 },
 "nbformat": 4,
 "nbformat_minor": 5
}
