{
 "cells": [
  {
   "cell_type": "code",
   "execution_count": 9,
   "id": "b5ee652b",
   "metadata": {},
   "outputs": [],
   "source": [
    "import os\n",
    "\n",
    "OUTPUT_PATH = \"../plots/png\"\n",
    "\n",
    "# make output folder if needed\n",
    "os.makedirs(OUTPUT_PATH, exist_ok=True)"
   ]
  },
  {
   "cell_type": "code",
   "execution_count": null,
   "id": "18d97431",
   "metadata": {},
   "outputs": [
    {
     "name": "stdout",
     "output_type": "stream",
     "text": [
      "\n",
      "Keys found in the HDF5 file:\n",
      "- ID_Parcelles : shape=(14836, 24, 24), dtype=float32\n",
      "- coords : shape=(14836, 2), dtype=float64\n",
      "- data : shape=(14836, 12, 4, 24, 24), dtype=float32\n",
      "- dates : shape=(14836,), dtype=object\n",
      "- labels : shape=(14836, 24, 24), dtype=float32\n",
      "- zones : shape=(14836,), dtype=object\n"
     ]
    }
   ],
   "source": [
    "import h5py\n",
    "\n",
    "with h5py.File(\"../data/dataset.h5\", 'r') as f:\n",
    "    print(\"\\nKeys found in the HDF5 file:\")\n",
    "    for key in f.keys():\n",
    "        data = f[key]\n",
    "        print(f\"- {key} : shape={data.shape}, dtype={data.dtype}\")"
   ]
  },
  {
   "cell_type": "code",
   "execution_count": null,
   "id": "5a56a9e8",
   "metadata": {},
   "outputs": [
    {
     "data": {
      "text/plain": [
       "array([[[ 0.,  0.,  0., ...,  0.,  0.,  0.],\n",
       "        [ 0.,  0.,  0., ...,  0.,  0.,  0.],\n",
       "        [ 0.,  0.,  0., ...,  0.,  0.,  0.],\n",
       "        ...,\n",
       "        [ 0.,  0.,  0., ...,  0.,  0.,  0.],\n",
       "        [ 0.,  0.,  0., ...,  0.,  0.,  0.],\n",
       "        [25.,  0.,  0., ...,  0.,  0.,  0.]],\n",
       "\n",
       "       [[ 0.,  0.,  0., ...,  0.,  0.,  0.],\n",
       "        [ 0.,  0.,  0., ...,  0.,  0.,  0.],\n",
       "        [ 0.,  0.,  0., ...,  0.,  0.,  0.],\n",
       "        ...,\n",
       "        [ 0.,  0.,  0., ...,  0.,  0.,  0.],\n",
       "        [ 0.,  0.,  0., ...,  0.,  0.,  0.],\n",
       "        [ 0.,  0.,  0., ...,  0.,  0.,  0.]],\n",
       "\n",
       "       [[ 0.,  0.,  0., ..., 14., 14., 14.],\n",
       "        [ 0.,  0.,  0., ..., 14., 14., 14.],\n",
       "        [ 0.,  0.,  0., ..., 14., 14., 14.],\n",
       "        ...,\n",
       "        [ 0.,  0.,  0., ..., 14., 14., 14.],\n",
       "        [ 0.,  0.,  0., ..., 14., 14., 14.],\n",
       "        [ 0.,  0.,  0., ..., 14., 14., 14.]],\n",
       "\n",
       "       ...,\n",
       "\n",
       "       [[ 0.,  0.,  0., ...,  0.,  0.,  0.],\n",
       "        [ 0.,  0.,  0., ...,  0.,  0.,  0.],\n",
       "        [ 0.,  0.,  0., ...,  0.,  0.,  0.],\n",
       "        ...,\n",
       "        [25., 25., 25., ...,  0.,  0.,  0.],\n",
       "        [25., 25., 25., ...,  0.,  0.,  0.],\n",
       "        [25., 25., 25., ...,  0.,  0.,  0.]],\n",
       "\n",
       "       [[ 0.,  0.,  0., ...,  0.,  0.,  0.],\n",
       "        [ 0.,  0.,  0., ...,  0.,  0.,  0.],\n",
       "        [ 0.,  0.,  0., ...,  0.,  0.,  0.],\n",
       "        ...,\n",
       "        [ 0.,  0.,  0., ..., 25., 25., 25.],\n",
       "        [ 0.,  0.,  0., ...,  0., 25., 25.],\n",
       "        [ 0.,  0., 25., ...,  0.,  0., 25.]],\n",
       "\n",
       "       [[ 0.,  0.,  0., ..., 25., 25., 25.],\n",
       "        [ 0.,  0.,  0., ..., 25., 25., 25.],\n",
       "        [ 0.,  0.,  0., ..., 25., 25., 25.],\n",
       "        ...,\n",
       "        [25., 25., 25., ..., 25., 25., 25.],\n",
       "        [25., 25., 25., ..., 25., 25., 25.],\n",
       "        [25., 25., 25., ..., 25., 25., 25.]]],\n",
       "      shape=(14836, 24, 24), dtype=float32)"
      ]
     },
     "execution_count": 8,
     "metadata": {},
     "output_type": "execute_result"
    }
   ],
   "source": [
    "with h5py.File(\"../data/dataset.h5\", 'r') as f:\n",
    "    data = f['data'][:]\n",
    "    labels = f['labels'][:]\n",
    "    coords = f['coords'][:]\n",
    "\n",
    "labels"
   ]
  },
  {
   "cell_type": "code",
   "execution_count": null,
   "id": "fae652ee",
   "metadata": {},
   "outputs": [],
   "source": [
    "import matplotlib.pyplot as plt\n",
    "import numpy as np\n",
    "\n",
    "# flatten all pixel labels\n",
    "flat = labels.ravel()\n",
    "uniq, counts = np.unique(flat, return_counts=True)\n",
    "\n",
    "# sort by counts descending\n",
    "sort_idx = np.argsort(counts)[::-1]\n",
    "uniq_sorted  = uniq[sort_idx]\n",
    "counts_sorted = counts[sort_idx]\n",
    "\n",
    "# convert labels to strings for ticks\n",
    "label_strs = uniq_sorted.astype(int).astype(str)\n",
    "\n",
    "plt.figure(figsize=(8, 5))\n",
    "plt.bar(label_strs, counts_sorted)\n",
    "plt.xlabel('Label')\n",
    "plt.ylabel('Pixel count')\n",
    "plt.yscale('log') # Help to see low represented labels\n",
    "plt.title('Global Pixel-Level Label Distribution (sorted)')\n",
    "plt.xticks(rotation=45)\n",
    "plt.savefig(OUTPUT_PATH+\"/label_distribution.png\")\n",
    "plt.close()\n"
   ]
  },
  {
   "cell_type": "code",
   "execution_count": 13,
   "id": "9208bc71",
   "metadata": {},
   "outputs": [
    {
     "name": "stderr",
     "output_type": "stream",
     "text": [
      "Clipping input data to the valid range for imshow with RGB data ([0..1] for floats or [0..255] for integers). Got range [0.0..1.1579763].\n",
      "Clipping input data to the valid range for imshow with RGB data ([0..1] for floats or [0..255] for integers). Got range [0.0..1.1410799].\n",
      "Clipping input data to the valid range for imshow with RGB data ([0..1] for floats or [0..255] for integers). Got range [0.0..1.4185686].\n"
     ]
    }
   ],
   "source": [
    "n_examples=3\n",
    "\n",
    "N, T, B, H, W = data.shape\n",
    "\n",
    "picks = np.random.choice(N, size=n_examples, replace=False)\n",
    "fig, axes = plt.subplots(2, n_examples, figsize=(n_examples*3, 6))\n",
    "for i, idx in enumerate(picks):\n",
    "    # RGB at first time\n",
    "    patch = data[idx, 0]  # (B, H, W)\n",
    "    rgb = np.stack([patch[2], patch[1], patch[0]], axis=-1)\n",
    "    axes[0,i].imshow(rgb / np.percentile(rgb,98))\n",
    "    axes[0,i].axis('off')\n",
    "    axes[0,i].set_title(f'Patch {idx}')\n",
    "    # label map\n",
    "    axes[1,i].imshow(labels[idx], cmap='tab20')\n",
    "    axes[1,i].axis('off')\n",
    "fig.suptitle('Example Patches (Top: RGB t0; Bottom: Labels)')\n",
    "plt.tight_layout()\n",
    "plt.savefig(OUTPUT_PATH+\"/patch_example.png\")\n",
    "plt.close()\n"
   ]
  },
  {
   "cell_type": "code",
   "execution_count": null,
   "id": "0fcbe0de",
   "metadata": {},
   "outputs": [],
   "source": [
    "\n",
    "\n",
    "def plot_band_histograms(data, out_dir):\n",
    "    \"\"\"Plot a histogram of all pixel values for each band.\"\"\"\n",
    "    n_bands = data.shape[1]\n",
    "    for b in range(n_bands):\n",
    "        band_vals = data[:, b].ravel()\n",
    "        plt.figure(figsize=(6, 4))\n",
    "        plt.hist(band_vals, bins=100, log=True)\n",
    "        plt.xlabel('Pixel value')\n",
    "        plt.ylabel('Frequency (log scale)')\n",
    "        plt.title(f'Histogram of Band {b+1}')\n",
    "        plt.tight_layout()\n",
    "        fn = os.path.join(out_dir, f'band_{b+1}_hist.png')\n",
    "        plt.savefig(fn)\n",
    "        plt.close()\n"
   ]
  },
  {
   "cell_type": "code",
   "execution_count": null,
   "id": "90d0d883",
   "metadata": {},
   "outputs": [],
   "source": [
    "\n",
    "\n",
    "def plot_coords_scatter(coords, labels, out_path):\n",
    "    \"\"\"Scatter plot of sample coordinates colored by label.\"\"\"\n",
    "    if coords.ndim != 2 or coords.shape[1] < 2:\n",
    "        print(\"Coords array is not 2D; skipping scatter plot.\")\n",
    "        return\n",
    "    x, y = coords[:, 0], coords[:, 1]\n",
    "    plt.figure(figsize=(6, 6))\n",
    "    scatter = plt.scatter(x, y, c=labels, s=5, cmap='tab20', alpha=0.6)\n",
    "    plt.xlabel('X coordinate')\n",
    "    plt.ylabel('Y coordinate')\n",
    "    plt.title('Spatial Distribution of Samples')\n",
    "    plt.colorbar(scatter, label='Label')\n",
    "    plt.tight_layout()\n",
    "    plt.savefig(out_path)\n",
    "    plt.close()\n"
   ]
  },
  {
   "cell_type": "code",
   "execution_count": null,
   "id": "7a5e603c",
   "metadata": {},
   "outputs": [],
   "source": [
    "\n",
    "\n",
    "def main():\n",
    "    # Load everything\n",
    "    data, labels, coords = load_data(H5_PATH)\n",
    "    print(f\"Loaded data: {data.shape[0]} samples, {data.shape[1]} bands, patch size {data.shape[2:]}\")\n",
    "\n",
    "    # 1) Label distribution\n",
    "    plot_label_distribution(labels, os.path.join(OUTPUT_DIR, 'label_distribution.png'))\n",
    "    print(\"→ Saved label distribution.\")\n",
    "\n",
    "    # 2) Example patches per class\n",
    "    plot_examples_per_class(data, labels,\n",
    "                            os.path.join(OUTPUT_DIR, 'examples_per_class.png'),\n",
    "                            n_examples=NUM_EXAMPLES_PER_CLASS)\n",
    "    print(\"→ Saved example patches grid.\")\n",
    "\n",
    "    # 3) Band histograms\n",
    "    plot_band_histograms(data, OUTPUT_DIR)\n",
    "    print(\"→ Saved band histograms.\")\n",
    "\n",
    "    # 4) Optional: coords scatter\n",
    "    plot_coords_scatter(coords, labels, os.path.join(OUTPUT_DIR, 'coords_scatter.png'))\n",
    "    print(\"→ Saved coordinate scatter (if coords were 2D).\")\n",
    "\n",
    "\n",
    "if __name__ == '__main__':\n",
    "    main()\n"
   ]
  }
 ],
 "metadata": {
  "kernelspec": {
   "display_name": "Python 3",
   "language": "python",
   "name": "python3"
  },
  "language_info": {
   "codemirror_mode": {
    "name": "ipython",
    "version": 3
   },
   "file_extension": ".py",
   "mimetype": "text/x-python",
   "name": "python",
   "nbconvert_exporter": "python",
   "pygments_lexer": "ipython3",
   "version": "3.11.9"
  }
 },
 "nbformat": 4,
 "nbformat_minor": 5
}
