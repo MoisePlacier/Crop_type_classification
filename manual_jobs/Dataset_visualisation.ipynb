{
 "cells": [
  {
   "cell_type": "code",
   "execution_count": 3,
   "id": "b5ee652b",
   "metadata": {},
   "outputs": [],
   "source": [
    "import os\n",
    "\n",
    "# make output folder if needed\n",
    "os.makedirs(\"../plots/png\", exist_ok=True)"
   ]
  },
  {
   "cell_type": "code",
   "execution_count": 4,
   "id": "5a56a9e8",
   "metadata": {},
   "outputs": [
    {
     "ename": "FileNotFoundError",
     "evalue": "[Errno 2] Unable to synchronously open file (unable to open file: name = 'data/Dataset.h5', errno = 2, error message = 'No such file or directory', flags = 0, o_flags = 0)",
     "output_type": "error",
     "traceback": [
      "\u001b[31m---------------------------------------------------------------------------\u001b[39m",
      "\u001b[31mFileNotFoundError\u001b[39m                         Traceback (most recent call last)",
      "\u001b[36mCell\u001b[39m\u001b[36m \u001b[39m\u001b[32mIn[4]\u001b[39m\u001b[32m, line 3\u001b[39m\n\u001b[32m      1\u001b[39m \u001b[38;5;28;01mimport\u001b[39;00m\u001b[38;5;250m \u001b[39m\u001b[34;01mh5py\u001b[39;00m\n\u001b[32m----> \u001b[39m\u001b[32m3\u001b[39m \u001b[38;5;28;01mwith\u001b[39;00m \u001b[43mh5py\u001b[49m\u001b[43m.\u001b[49m\u001b[43mFile\u001b[49m\u001b[43m(\u001b[49m\u001b[33;43m\"\u001b[39;49m\u001b[33;43mdata/Dataset.h5\u001b[39;49m\u001b[33;43m\"\u001b[39;49m\u001b[43m,\u001b[49m\u001b[43m \u001b[49m\u001b[33;43m'\u001b[39;49m\u001b[33;43mr\u001b[39;49m\u001b[33;43m'\u001b[39;49m\u001b[43m)\u001b[49m \u001b[38;5;28;01mas\u001b[39;00m f:\n\u001b[32m      4\u001b[39m     data = f[\u001b[33m'\u001b[39m\u001b[33mdata\u001b[39m\u001b[33m'\u001b[39m][:]    \u001b[38;5;66;03m# shape: (N, bands, H, W)\u001b[39;00m\n\u001b[32m      5\u001b[39m     labels = f[\u001b[33m'\u001b[39m\u001b[33mlabels\u001b[39m\u001b[33m'\u001b[39m][:]  \u001b[38;5;66;03m# shape: (N,)\u001b[39;00m\n",
      "\u001b[36mFile \u001b[39m\u001b[32m~\\AppData\\Local\\Packages\\PythonSoftwareFoundation.Python.3.11_qbz5n2kfra8p0\\LocalCache\\local-packages\\Python311\\site-packages\\h5py\\_hl\\files.py:564\u001b[39m, in \u001b[36mFile.__init__\u001b[39m\u001b[34m(self, name, mode, driver, libver, userblock_size, swmr, rdcc_nslots, rdcc_nbytes, rdcc_w0, track_order, fs_strategy, fs_persist, fs_threshold, fs_page_size, page_buf_size, min_meta_keep, min_raw_keep, locking, alignment_threshold, alignment_interval, meta_block_size, **kwds)\u001b[39m\n\u001b[32m    555\u001b[39m     fapl = make_fapl(driver, libver, rdcc_nslots, rdcc_nbytes, rdcc_w0,\n\u001b[32m    556\u001b[39m                      locking, page_buf_size, min_meta_keep, min_raw_keep,\n\u001b[32m    557\u001b[39m                      alignment_threshold=alignment_threshold,\n\u001b[32m    558\u001b[39m                      alignment_interval=alignment_interval,\n\u001b[32m    559\u001b[39m                      meta_block_size=meta_block_size,\n\u001b[32m    560\u001b[39m                      **kwds)\n\u001b[32m    561\u001b[39m     fcpl = make_fcpl(track_order=track_order, fs_strategy=fs_strategy,\n\u001b[32m    562\u001b[39m                      fs_persist=fs_persist, fs_threshold=fs_threshold,\n\u001b[32m    563\u001b[39m                      fs_page_size=fs_page_size)\n\u001b[32m--> \u001b[39m\u001b[32m564\u001b[39m     fid = \u001b[43mmake_fid\u001b[49m\u001b[43m(\u001b[49m\u001b[43mname\u001b[49m\u001b[43m,\u001b[49m\u001b[43m \u001b[49m\u001b[43mmode\u001b[49m\u001b[43m,\u001b[49m\u001b[43m \u001b[49m\u001b[43muserblock_size\u001b[49m\u001b[43m,\u001b[49m\u001b[43m \u001b[49m\u001b[43mfapl\u001b[49m\u001b[43m,\u001b[49m\u001b[43m \u001b[49m\u001b[43mfcpl\u001b[49m\u001b[43m,\u001b[49m\u001b[43m \u001b[49m\u001b[43mswmr\u001b[49m\u001b[43m=\u001b[49m\u001b[43mswmr\u001b[49m\u001b[43m)\u001b[49m\n\u001b[32m    566\u001b[39m \u001b[38;5;28;01mif\u001b[39;00m \u001b[38;5;28misinstance\u001b[39m(libver, \u001b[38;5;28mtuple\u001b[39m):\n\u001b[32m    567\u001b[39m     \u001b[38;5;28mself\u001b[39m._libver = libver\n",
      "\u001b[36mFile \u001b[39m\u001b[32m~\\AppData\\Local\\Packages\\PythonSoftwareFoundation.Python.3.11_qbz5n2kfra8p0\\LocalCache\\local-packages\\Python311\\site-packages\\h5py\\_hl\\files.py:238\u001b[39m, in \u001b[36mmake_fid\u001b[39m\u001b[34m(name, mode, userblock_size, fapl, fcpl, swmr)\u001b[39m\n\u001b[32m    236\u001b[39m     \u001b[38;5;28;01mif\u001b[39;00m swmr \u001b[38;5;129;01mand\u001b[39;00m swmr_support:\n\u001b[32m    237\u001b[39m         flags |= h5f.ACC_SWMR_READ\n\u001b[32m--> \u001b[39m\u001b[32m238\u001b[39m     fid = \u001b[43mh5f\u001b[49m\u001b[43m.\u001b[49m\u001b[43mopen\u001b[49m\u001b[43m(\u001b[49m\u001b[43mname\u001b[49m\u001b[43m,\u001b[49m\u001b[43m \u001b[49m\u001b[43mflags\u001b[49m\u001b[43m,\u001b[49m\u001b[43m \u001b[49m\u001b[43mfapl\u001b[49m\u001b[43m=\u001b[49m\u001b[43mfapl\u001b[49m\u001b[43m)\u001b[49m\n\u001b[32m    239\u001b[39m \u001b[38;5;28;01melif\u001b[39;00m mode == \u001b[33m'\u001b[39m\u001b[33mr+\u001b[39m\u001b[33m'\u001b[39m:\n\u001b[32m    240\u001b[39m     fid = h5f.open(name, h5f.ACC_RDWR, fapl=fapl)\n",
      "\u001b[36mFile \u001b[39m\u001b[32mh5py/_objects.pyx:56\u001b[39m, in \u001b[36mh5py._objects.with_phil.wrapper\u001b[39m\u001b[34m()\u001b[39m\n",
      "\u001b[36mFile \u001b[39m\u001b[32mh5py/_objects.pyx:57\u001b[39m, in \u001b[36mh5py._objects.with_phil.wrapper\u001b[39m\u001b[34m()\u001b[39m\n",
      "\u001b[36mFile \u001b[39m\u001b[32mh5py/h5f.pyx:102\u001b[39m, in \u001b[36mh5py.h5f.open\u001b[39m\u001b[34m()\u001b[39m\n",
      "\u001b[31mFileNotFoundError\u001b[39m: [Errno 2] Unable to synchronously open file (unable to open file: name = 'data/Dataset.h5', errno = 2, error message = 'No such file or directory', flags = 0, o_flags = 0)"
     ]
    }
   ],
   "source": [
    "import h5py\n",
    "\n",
    "with h5py.File(\"data/Dataset.h5\", 'r') as f:\n",
    "    data = f['data'][:]    # shape: (N, bands, H, W)\n",
    "    labels = f['labels'][:]  # shape: (N,)\n",
    "    coords = f['coords'][:]  # shape: (N, 2) or (N, something)\n",
    "\n",
    "data"
   ]
  },
  {
   "cell_type": "code",
   "execution_count": null,
   "id": "fae652ee",
   "metadata": {},
   "outputs": [],
   "source": [
    "import matplotlib.pyplot as plt\n",
    "import numpy as np\n",
    "\n",
    "def plot_label_distribution(labels, out_path):\n",
    "    \"\"\"Bar chart of the number of samples per label.\"\"\"\n",
    "    unique, counts = np.unique(labels, return_counts=True)\n",
    "    plt.figure(figsize=(8, 5))\n",
    "    plt.bar(unique.astype(str), counts)\n",
    "    plt.xlabel('Label')\n",
    "    plt.ylabel('Count')\n",
    "    plt.title('Dataset Label Distribution')\n",
    "    plt.tight_layout()\n",
    "    plt.savefig(out_path)\n",
    "    plt.close()\n",
    "\n"
   ]
  },
  {
   "cell_type": "code",
   "execution_count": null,
   "id": "9208bc71",
   "metadata": {},
   "outputs": [],
   "source": [
    "\n",
    "\n",
    "def plot_examples_per_class(data, labels, out_path, n_examples=3):\n",
    "    \"\"\"Grid of random image patches per class.\"\"\"\n",
    "    unique_labels = np.unique(labels)\n",
    "    n_classes = len(unique_labels)\n",
    "    fig, axes = plt.subplots(n_classes, n_examples, figsize=(n_examples*2, n_classes*2))\n",
    "    for i, lab in enumerate(unique_labels):\n",
    "        idxs = np.where(labels == lab)[0]\n",
    "        chosen = np.random.choice(idxs, size=min(n_examples, len(idxs)), replace=False)\n",
    "        for j, idx in enumerate(chosen):\n",
    "            patch = data[idx]  # shape (bands, H, W)\n",
    "            # make an RGB composite: bands 3,2,1 → indices [3]=B4, [2]=B3, [1]=B2 if zero-based\n",
    "            rgb = np.stack([\n",
    "                patch[3],  # B4 → red\n",
    "                patch[2],  # B3 → green\n",
    "                patch[1],  # B2 → blue\n",
    "            ], axis=-1)\n",
    "            ax = axes[i, j] if n_examples > 1 else axes[i]\n",
    "            ax.imshow(rgb / np.percentile(rgb, 98))  # simple stretch\n",
    "            ax.axis('off')\n",
    "            if j == 0:\n",
    "                ax.set_ylabel(f'Label {lab}', rotation=0, labelpad=40, va='center')\n",
    "    fig.suptitle('Example Patches per Class', y=0.92)\n",
    "    plt.tight_layout()\n",
    "    plt.savefig(out_path)\n",
    "    plt.close()\n"
   ]
  },
  {
   "cell_type": "code",
   "execution_count": null,
   "id": "0fcbe0de",
   "metadata": {},
   "outputs": [],
   "source": [
    "\n",
    "\n",
    "def plot_band_histograms(data, out_dir):\n",
    "    \"\"\"Plot a histogram of all pixel values for each band.\"\"\"\n",
    "    n_bands = data.shape[1]\n",
    "    for b in range(n_bands):\n",
    "        band_vals = data[:, b].ravel()\n",
    "        plt.figure(figsize=(6, 4))\n",
    "        plt.hist(band_vals, bins=100, log=True)\n",
    "        plt.xlabel('Pixel value')\n",
    "        plt.ylabel('Frequency (log scale)')\n",
    "        plt.title(f'Histogram of Band {b+1}')\n",
    "        plt.tight_layout()\n",
    "        fn = os.path.join(out_dir, f'band_{b+1}_hist.png')\n",
    "        plt.savefig(fn)\n",
    "        plt.close()\n"
   ]
  },
  {
   "cell_type": "code",
   "execution_count": null,
   "id": "90d0d883",
   "metadata": {},
   "outputs": [],
   "source": [
    "\n",
    "\n",
    "def plot_coords_scatter(coords, labels, out_path):\n",
    "    \"\"\"Scatter plot of sample coordinates colored by label.\"\"\"\n",
    "    if coords.ndim != 2 or coords.shape[1] < 2:\n",
    "        print(\"Coords array is not 2D; skipping scatter plot.\")\n",
    "        return\n",
    "    x, y = coords[:, 0], coords[:, 1]\n",
    "    plt.figure(figsize=(6, 6))\n",
    "    scatter = plt.scatter(x, y, c=labels, s=5, cmap='tab20', alpha=0.6)\n",
    "    plt.xlabel('X coordinate')\n",
    "    plt.ylabel('Y coordinate')\n",
    "    plt.title('Spatial Distribution of Samples')\n",
    "    plt.colorbar(scatter, label='Label')\n",
    "    plt.tight_layout()\n",
    "    plt.savefig(out_path)\n",
    "    plt.close()\n"
   ]
  },
  {
   "cell_type": "code",
   "execution_count": null,
   "id": "7a5e603c",
   "metadata": {},
   "outputs": [],
   "source": [
    "\n",
    "\n",
    "def main():\n",
    "    # Load everything\n",
    "    data, labels, coords = load_data(H5_PATH)\n",
    "    print(f\"Loaded data: {data.shape[0]} samples, {data.shape[1]} bands, patch size {data.shape[2:]}\")\n",
    "\n",
    "    # 1) Label distribution\n",
    "    plot_label_distribution(labels, os.path.join(OUTPUT_DIR, 'label_distribution.png'))\n",
    "    print(\"→ Saved label distribution.\")\n",
    "\n",
    "    # 2) Example patches per class\n",
    "    plot_examples_per_class(data, labels,\n",
    "                            os.path.join(OUTPUT_DIR, 'examples_per_class.png'),\n",
    "                            n_examples=NUM_EXAMPLES_PER_CLASS)\n",
    "    print(\"→ Saved example patches grid.\")\n",
    "\n",
    "    # 3) Band histograms\n",
    "    plot_band_histograms(data, OUTPUT_DIR)\n",
    "    print(\"→ Saved band histograms.\")\n",
    "\n",
    "    # 4) Optional: coords scatter\n",
    "    plot_coords_scatter(coords, labels, os.path.join(OUTPUT_DIR, 'coords_scatter.png'))\n",
    "    print(\"→ Saved coordinate scatter (if coords were 2D).\")\n",
    "\n",
    "\n",
    "if __name__ == '__main__':\n",
    "    main()\n"
   ]
  }
 ],
 "metadata": {
  "kernelspec": {
   "display_name": "Python 3",
   "language": "python",
   "name": "python3"
  },
  "language_info": {
   "codemirror_mode": {
    "name": "ipython",
    "version": 3
   },
   "file_extension": ".py",
   "mimetype": "text/x-python",
   "name": "python",
   "nbconvert_exporter": "python",
   "pygments_lexer": "ipython3",
   "version": "3.11.9"
  }
 },
 "nbformat": 4,
 "nbformat_minor": 5
}
