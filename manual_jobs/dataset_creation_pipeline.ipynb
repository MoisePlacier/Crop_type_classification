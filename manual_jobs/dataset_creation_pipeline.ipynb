{
 "cells": [
  {
   "cell_type": "code",
   "execution_count": 12,
   "id": "636b235a",
   "metadata": {},
   "outputs": [
    {
     "name": "stderr",
     "output_type": "stream",
     "text": [
      "/Users/placiermoise/Documents/dsw_proj/remote sensing crop classification/.venv/lib/python3.12/site-packages/geemap/conversion.py:23: UserWarning: pkg_resources is deprecated as an API. See https://setuptools.pypa.io/en/latest/pkg_resources.html. The pkg_resources package is slated for removal as early as 2025-11-30. Refrain from using this package or pin to Setuptools<81.\n",
      "  import pkg_resources\n"
     ]
    }
   ],
   "source": [
    "from data_collection import *\n",
    "import geemap"
   ]
  },
  {
   "cell_type": "code",
   "execution_count": null,
   "id": "87a9dc92",
   "metadata": {},
   "outputs": [],
   "source": [
    "# Load the shapefile containing the parcels\n",
    "gdf = gpd.read_file(\"/Users/placiermoise/Documents/dsw_proj/Parcelles/RPG_2023/PARCELLES_GRAPHIQUES.gpkg\")\n",
    "gdf  = gdf.to_crs(epsg=4326)\n",
    "Label_culture = pd.read_csv(\"../data/REF_CULTURES_GROUPES.csv\", sep=\";\")\n",
    "Label_culture[\"Label\"] = pd.to_numeric(Label_culture[\"Label\"], errors=\"coerce\").astype(\"Int64\")\n",
    "Label_culture[\"Label\"] = Label_culture[\"Label\"].fillna(0).astype(int)\n",
    "gdf = gdf.merge(Label_culture[[\"Label\",\"CODE_CULTURE\"]], how=\"left\", left_on=\"CODE_CULTU\", right_on=\"CODE_CULTURE\") #TODO check if this is right (CODE_CULTU)\n",
    "gdf = gdf.rename(columns={\"Label\": \"LABEL\"})"
   ]
  },
  {
   "cell_type": "code",
   "execution_count": 7,
   "id": "f2929944",
   "metadata": {},
   "outputs": [],
   "source": [
    "ee.Authenticate(scopes=['https://www.googleapis.com/auth/earthengine',\n",
    "                        'https://www.googleapis.com/auth/drive'])\n",
    "ee.Initialize()"
   ]
  },
  {
   "cell_type": "code",
   "execution_count": 14,
   "id": "cf53d590",
   "metadata": {},
   "outputs": [
    {
     "data": {
      "text/html": [
       "\n",
       "            <style>\n",
       "                .geemap-dark {\n",
       "                    --jp-widgets-color: white;\n",
       "                    --jp-widgets-label-color: white;\n",
       "                    --jp-ui-font-color1: white;\n",
       "                    --jp-layout-color2: #454545;\n",
       "                    background-color: #383838;\n",
       "                }\n",
       "\n",
       "                .geemap-dark .jupyter-button {\n",
       "                    --jp-layout-color3: #383838;\n",
       "                }\n",
       "\n",
       "                .geemap-colab {\n",
       "                    background-color: var(--colab-primary-surface-color, white);\n",
       "                }\n",
       "\n",
       "                .geemap-colab .jupyter-button {\n",
       "                    --jp-layout-color3: var(--colab-primary-surface-color, white);\n",
       "                }\n",
       "            </style>\n",
       "            "
      ],
      "text/plain": [
       "<IPython.core.display.HTML object>"
      ]
     },
     "metadata": {},
     "output_type": "display_data"
    },
    {
     "data": {
      "application/vnd.jupyter.widget-view+json": {
       "model_id": "7a891e0669f54b0a85ce1897feff5724",
       "version_major": 2,
       "version_minor": 0
      },
      "text/plain": [
       "Map(center=[0, 0], controls=(WidgetControl(options=['position', 'transparent_bg'], widget=SearchDataGUI(childr…"
      ]
     },
     "execution_count": 14,
     "metadata": {},
     "output_type": "execute_result"
    }
   ],
   "source": [
    "Map = geemap.Map()\n",
    "Map"
   ]
  },
  {
   "cell_type": "code",
   "execution_count": null,
   "id": "1345b0bc",
   "metadata": {},
   "outputs": [],
   "source": [
    "coordinates = []\n",
    "for feature in Map.draw_features:\n",
    "        coordinate = feature.geometry().getInfo()\n",
    "        coordinates.append(coordinate['coordinates'])\n",
    "coordinates  "
   ]
  },
  {
   "cell_type": "code",
   "execution_count": 8,
   "id": "edc64b74",
   "metadata": {},
   "outputs": [],
   "source": [
    "coords_list = [[0.472412, 44.504341],\n",
    " [0.692139, 46.149394],\n",
    " [5.218506, 45.413876],\n",
    " [1.450195, 48.166085]]\n",
    "\n",
    "\n",
    "List_Geometry_data_collect = create_gee_geometries(coords_list, side_km=10)"
   ]
  },
  {
   "cell_type": "code",
   "execution_count": null,
   "id": "ff6e6fca",
   "metadata": {},
   "outputs": [],
   "source": [
    "\n",
    "start_date = '2023-01-01'\n",
    "end_date = '2023-12-31'\n",
    "\n",
    "#ranges = generate_half_month_ranges(start_date, end_date)\n",
    "ranges = generate_date_ranges(start_date, end_date, interval_days=30)\n",
    "\n",
    "bands = ['B2', 'B3', 'B4', 'B8']\n",
    "\n",
    "\n",
    "zone_number = 0\n",
    "\n",
    "for geometry in List_Geometry_data_collect : \n",
    "\n",
    "    zone_number += 1\n",
    "\n",
    "    # Create a list of median images for each date range\n",
    "    median_images = [get_median_image(start, end, geometry) for start, end in ranges]\n",
    "\n",
    "    # Create a collection from the images\n",
    "    image_collection = ee.ImageCollection(median_images)\n",
    "\n",
    "    folderName = f'GEE_export_zone{zone_number}'\n",
    "\n",
    "    # export to TIFF format\n",
    "    export_folder = str(folderName)\n",
    "    export_maxPixels = 1e10\n",
    "    \n",
    "    export_tiff(image_collection,geometry,export_folder,export_maxPixels )\n",
    "\n",
    "######### ajout manuel des files gg drive vers ../data/tif"
   ]
  },
  {
   "cell_type": "code",
   "execution_count": null,
   "id": "56acb19c",
   "metadata": {},
   "outputs": [],
   "source": [
    "rasterize_labels_per_zone(base_dir=\"../data/Tif\", gdf=gdf, label_column=\"LABEL\")"
   ]
  }
 ],
 "metadata": {
  "kernelspec": {
   "display_name": ".venv",
   "language": "python",
   "name": "python3"
  },
  "language_info": {
   "codemirror_mode": {
    "name": "ipython",
    "version": 3
   },
   "file_extension": ".py",
   "mimetype": "text/x-python",
   "name": "python",
   "nbconvert_exporter": "python",
   "pygments_lexer": "ipython3",
   "version": "3.12.3"
  }
 },
 "nbformat": 4,
 "nbformat_minor": 5
}
