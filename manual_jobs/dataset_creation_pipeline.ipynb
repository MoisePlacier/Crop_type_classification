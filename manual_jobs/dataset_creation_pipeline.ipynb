{
 "cells": [
  {
   "cell_type": "code",
   "execution_count": 60,
   "id": "636b235a",
   "metadata": {},
   "outputs": [
    {
     "data": {
      "text/html": [
       "\n",
       "            <style>\n",
       "                .geemap-dark {\n",
       "                    --jp-widgets-color: white;\n",
       "                    --jp-widgets-label-color: white;\n",
       "                    --jp-ui-font-color1: white;\n",
       "                    --jp-layout-color2: #454545;\n",
       "                    background-color: #383838;\n",
       "                }\n",
       "\n",
       "                .geemap-dark .jupyter-button {\n",
       "                    --jp-layout-color3: #383838;\n",
       "                }\n",
       "\n",
       "                .geemap-colab {\n",
       "                    background-color: var(--colab-primary-surface-color, white);\n",
       "                }\n",
       "\n",
       "                .geemap-colab .jupyter-button {\n",
       "                    --jp-layout-color3: var(--colab-primary-surface-color, white);\n",
       "                }\n",
       "            </style>\n",
       "            "
      ],
      "text/plain": [
       "<IPython.core.display.HTML object>"
      ]
     },
     "metadata": {},
     "output_type": "display_data"
    }
   ],
   "source": [
    "import importlib\n",
    "\n",
    "importlib.reload(data_collection)\n",
    "from data_collection import mask_no_labeled_pixel_all_zones\n",
    "\n",
    "# Ensuite tu peux faire\n",
    "from data_collection import get_median_image\n",
    "import geemap"
   ]
  },
  {
   "cell_type": "code",
   "execution_count": 15,
   "id": "87a9dc92",
   "metadata": {},
   "outputs": [
    {
     "data": {
      "text/html": [
       "\n",
       "            <style>\n",
       "                .geemap-dark {\n",
       "                    --jp-widgets-color: white;\n",
       "                    --jp-widgets-label-color: white;\n",
       "                    --jp-ui-font-color1: white;\n",
       "                    --jp-layout-color2: #454545;\n",
       "                    background-color: #383838;\n",
       "                }\n",
       "\n",
       "                .geemap-dark .jupyter-button {\n",
       "                    --jp-layout-color3: #383838;\n",
       "                }\n",
       "\n",
       "                .geemap-colab {\n",
       "                    background-color: var(--colab-primary-surface-color, white);\n",
       "                }\n",
       "\n",
       "                .geemap-colab .jupyter-button {\n",
       "                    --jp-layout-color3: var(--colab-primary-surface-color, white);\n",
       "                }\n",
       "            </style>\n",
       "            "
      ],
      "text/plain": [
       "<IPython.core.display.HTML object>"
      ]
     },
     "metadata": {},
     "output_type": "display_data"
    }
   ],
   "source": [
    "# Load the shapefile containing the parcels\n",
    "gdf = gpd.read_file(\"/Users/placiermoise/Documents/dsw_proj/Parcelles/RPG_2023/PARCELLES_GRAPHIQUES.gpkg\")\n",
    "gdf  = gdf.to_crs(epsg=4326)\n",
    "Label_culture = pd.read_csv(\"../data/REF_CULTURES_GROUPES.csv\", sep=\";\")\n",
    "Label_culture[\"Label\"] = pd.to_numeric(Label_culture[\"Label\"], errors=\"coerce\").astype(\"Int64\")\n",
    "Label_culture[\"Label\"] = Label_culture[\"Label\"].fillna(0).astype(int)\n",
    "gdf = gdf.merge(Label_culture[[\"Label\",\"CODE_CULTURE\"]], how=\"left\", left_on=\"CODE_CULTU\", right_on=\"CODE_CULTURE\") #TODO check if this is right (CODE_CULTU)\n",
    "gdf = gdf.rename(columns={\"Label\": \"LABEL\"})"
   ]
  },
  {
   "cell_type": "code",
   "execution_count": 16,
   "id": "f2929944",
   "metadata": {},
   "outputs": [
    {
     "data": {
      "text/html": [
       "\n",
       "            <style>\n",
       "                .geemap-dark {\n",
       "                    --jp-widgets-color: white;\n",
       "                    --jp-widgets-label-color: white;\n",
       "                    --jp-ui-font-color1: white;\n",
       "                    --jp-layout-color2: #454545;\n",
       "                    background-color: #383838;\n",
       "                }\n",
       "\n",
       "                .geemap-dark .jupyter-button {\n",
       "                    --jp-layout-color3: #383838;\n",
       "                }\n",
       "\n",
       "                .geemap-colab {\n",
       "                    background-color: var(--colab-primary-surface-color, white);\n",
       "                }\n",
       "\n",
       "                .geemap-colab .jupyter-button {\n",
       "                    --jp-layout-color3: var(--colab-primary-surface-color, white);\n",
       "                }\n",
       "            </style>\n",
       "            "
      ],
      "text/plain": [
       "<IPython.core.display.HTML object>"
      ]
     },
     "metadata": {},
     "output_type": "display_data"
    }
   ],
   "source": [
    "ee.Authenticate(scopes=['https://www.googleapis.com/auth/earthengine',\n",
    "                        'https://www.googleapis.com/auth/drive'])\n",
    "ee.Initialize()"
   ]
  },
  {
   "cell_type": "code",
   "execution_count": 45,
   "id": "cf53d590",
   "metadata": {},
   "outputs": [
    {
     "data": {
      "text/html": [
       "\n",
       "            <style>\n",
       "                .geemap-dark {\n",
       "                    --jp-widgets-color: white;\n",
       "                    --jp-widgets-label-color: white;\n",
       "                    --jp-ui-font-color1: white;\n",
       "                    --jp-layout-color2: #454545;\n",
       "                    background-color: #383838;\n",
       "                }\n",
       "\n",
       "                .geemap-dark .jupyter-button {\n",
       "                    --jp-layout-color3: #383838;\n",
       "                }\n",
       "\n",
       "                .geemap-colab {\n",
       "                    background-color: var(--colab-primary-surface-color, white);\n",
       "                }\n",
       "\n",
       "                .geemap-colab .jupyter-button {\n",
       "                    --jp-layout-color3: var(--colab-primary-surface-color, white);\n",
       "                }\n",
       "            </style>\n",
       "            "
      ],
      "text/plain": [
       "<IPython.core.display.HTML object>"
      ]
     },
     "metadata": {},
     "output_type": "display_data"
    },
    {
     "data": {
      "application/vnd.jupyter.widget-view+json": {
       "model_id": "daecad12ea96498297072a40071f2560",
       "version_major": 2,
       "version_minor": 0
      },
      "text/plain": [
       "Map(center=[0, 0], controls=(WidgetControl(options=['position', 'transparent_bg'], widget=SearchDataGUI(childr…"
      ]
     },
     "execution_count": 45,
     "metadata": {},
     "output_type": "execute_result"
    }
   ],
   "source": [
    "Map = geemap.Map()\n",
    "Map"
   ]
  },
  {
   "cell_type": "code",
   "execution_count": 46,
   "id": "1345b0bc",
   "metadata": {},
   "outputs": [
    {
     "data": {
      "text/html": [
       "\n",
       "            <style>\n",
       "                .geemap-dark {\n",
       "                    --jp-widgets-color: white;\n",
       "                    --jp-widgets-label-color: white;\n",
       "                    --jp-ui-font-color1: white;\n",
       "                    --jp-layout-color2: #454545;\n",
       "                    background-color: #383838;\n",
       "                }\n",
       "\n",
       "                .geemap-dark .jupyter-button {\n",
       "                    --jp-layout-color3: #383838;\n",
       "                }\n",
       "\n",
       "                .geemap-colab {\n",
       "                    background-color: var(--colab-primary-surface-color, white);\n",
       "                }\n",
       "\n",
       "                .geemap-colab .jupyter-button {\n",
       "                    --jp-layout-color3: var(--colab-primary-surface-color, white);\n",
       "                }\n",
       "            </style>\n",
       "            "
      ],
      "text/plain": [
       "<IPython.core.display.HTML object>"
      ]
     },
     "metadata": {},
     "output_type": "display_data"
    },
    {
     "data": {
      "text/plain": [
       "[[1.384277, 49.138597],\n",
       " [6.196289, 48.341646],\n",
       " [1.054688, 46.21025],\n",
       " [0.131836, 44.918139],\n",
       " [4.987793, 45.981695],\n",
       " [4.21875, 48.57479],\n",
       " [-0.791016, 48.545705]]"
      ]
     },
     "execution_count": 46,
     "metadata": {},
     "output_type": "execute_result"
    }
   ],
   "source": [
    "coordinates = []\n",
    "for feature in Map.draw_features:\n",
    "        coordinate = feature.geometry().getInfo()\n",
    "        coordinates.append(coordinate['coordinates'])\n",
    "coordinates  "
   ]
  },
  {
   "cell_type": "markdown",
   "id": "491addb8",
   "metadata": {},
   "source": [
    "[[0.472412, 44.504341],\n",
    " [0.692139, 46.149394],\n",
    " [5.218506, 45.413876],\n",
    " [1.450195, 48.166085]]"
   ]
  },
  {
   "cell_type": "code",
   "execution_count": 47,
   "id": "edc64b74",
   "metadata": {},
   "outputs": [
    {
     "data": {
      "text/html": [
       "\n",
       "            <style>\n",
       "                .geemap-dark {\n",
       "                    --jp-widgets-color: white;\n",
       "                    --jp-widgets-label-color: white;\n",
       "                    --jp-ui-font-color1: white;\n",
       "                    --jp-layout-color2: #454545;\n",
       "                    background-color: #383838;\n",
       "                }\n",
       "\n",
       "                .geemap-dark .jupyter-button {\n",
       "                    --jp-layout-color3: #383838;\n",
       "                }\n",
       "\n",
       "                .geemap-colab {\n",
       "                    background-color: var(--colab-primary-surface-color, white);\n",
       "                }\n",
       "\n",
       "                .geemap-colab .jupyter-button {\n",
       "                    --jp-layout-color3: var(--colab-primary-surface-color, white);\n",
       "                }\n",
       "            </style>\n",
       "            "
      ],
      "text/plain": [
       "<IPython.core.display.HTML object>"
      ]
     },
     "metadata": {},
     "output_type": "display_data"
    },
    {
     "data": {
      "application/vnd.jupyter.widget-view+json": {
       "model_id": "daecad12ea96498297072a40071f2560",
       "version_major": 2,
       "version_minor": 0
      },
      "text/plain": [
       "Map(bottom=6043.0, center=[47.29413372501023, 6.8115234375], controls=(WidgetControl(options=['position', 'tra…"
      ]
     },
     "execution_count": 47,
     "metadata": {},
     "output_type": "execute_result"
    }
   ],
   "source": [
    "coords_list = coordinates\n",
    "\n",
    "List_Geometry_data_collect = create_gee_geometries(coords_list, side_km=10)\n",
    "\n",
    "i=0\n",
    "for geometry in List_Geometry_data_collect :\n",
    "    i+=1\n",
    "    Map.addLayer(geometry, {}, f\"zone{i}\")\n",
    "\n",
    "Map\n"
   ]
  },
  {
   "cell_type": "code",
   "execution_count": 48,
   "id": "ff6e6fca",
   "metadata": {},
   "outputs": [
    {
     "data": {
      "text/html": [
       "\n",
       "            <style>\n",
       "                .geemap-dark {\n",
       "                    --jp-widgets-color: white;\n",
       "                    --jp-widgets-label-color: white;\n",
       "                    --jp-ui-font-color1: white;\n",
       "                    --jp-layout-color2: #454545;\n",
       "                    background-color: #383838;\n",
       "                }\n",
       "\n",
       "                .geemap-dark .jupyter-button {\n",
       "                    --jp-layout-color3: #383838;\n",
       "                }\n",
       "\n",
       "                .geemap-colab {\n",
       "                    background-color: var(--colab-primary-surface-color, white);\n",
       "                }\n",
       "\n",
       "                .geemap-colab .jupyter-button {\n",
       "                    --jp-layout-color3: var(--colab-primary-surface-color, white);\n",
       "                }\n",
       "            </style>\n",
       "            "
      ],
      "text/plain": [
       "<IPython.core.display.HTML object>"
      ]
     },
     "metadata": {},
     "output_type": "display_data"
    },
    {
     "name": "stdout",
     "output_type": "stream",
     "text": [
      "Export started for image 1/13, date : 20230101\n",
      "Export started for image 2/13, date : 20230131\n",
      "Export started for image 3/13, date : 20230302\n",
      "Export started for image 4/13, date : 20230401\n",
      "Export started for image 5/13, date : 20230501\n",
      "Export started for image 6/13, date : 20230531\n",
      "Export started for image 7/13, date : 20230630\n",
      "Export started for image 8/13, date : 20230730\n",
      "Export started for image 9/13, date : 20230829\n",
      "Export started for image 10/13, date : 20230928\n",
      "Export started for image 11/13, date : 20231028\n",
      "Export started for image 12/13, date : 20231127\n",
      "Export started for image 13/13, date : 20231227\n",
      "Export started for image 1/13, date : 20230101\n",
      "Export started for image 2/13, date : 20230131\n",
      "Export started for image 3/13, date : 20230302\n",
      "Export started for image 4/13, date : 20230401\n",
      "Export started for image 5/13, date : 20230501\n",
      "Export started for image 6/13, date : 20230531\n",
      "Export started for image 7/13, date : 20230630\n",
      "Export started for image 8/13, date : 20230730\n",
      "Export started for image 9/13, date : 20230829\n",
      "Export started for image 10/13, date : 20230928\n",
      "Export started for image 11/13, date : 20231028\n",
      "Export started for image 12/13, date : 20231127\n",
      "Export started for image 13/13, date : 20231227\n",
      "Export started for image 1/13, date : 20230101\n",
      "Export started for image 2/13, date : 20230131\n",
      "Export started for image 3/13, date : 20230302\n",
      "Export started for image 4/13, date : 20230401\n",
      "Export started for image 5/13, date : 20230501\n",
      "Export started for image 6/13, date : 20230531\n",
      "Export started for image 7/13, date : 20230630\n",
      "Export started for image 8/13, date : 20230730\n",
      "Export started for image 9/13, date : 20230829\n",
      "Export started for image 10/13, date : 20230928\n",
      "Export started for image 11/13, date : 20231028\n",
      "Export started for image 12/13, date : 20231127\n",
      "Export started for image 13/13, date : 20231227\n",
      "Export started for image 1/13, date : 20230101\n",
      "Export started for image 2/13, date : 20230131\n",
      "Export started for image 3/13, date : 20230302\n",
      "Export started for image 4/13, date : 20230401\n",
      "Export started for image 5/13, date : 20230501\n",
      "Export started for image 6/13, date : 20230531\n",
      "Export started for image 7/13, date : 20230630\n",
      "Export started for image 8/13, date : 20230730\n",
      "Export started for image 9/13, date : 20230829\n",
      "Export started for image 10/13, date : 20230928\n",
      "Export started for image 11/13, date : 20231028\n",
      "Export started for image 12/13, date : 20231127\n",
      "Export started for image 13/13, date : 20231227\n",
      "Export started for image 1/13, date : 20230101\n",
      "Export started for image 2/13, date : 20230131\n",
      "Export started for image 3/13, date : 20230302\n",
      "Export started for image 4/13, date : 20230401\n",
      "Export started for image 5/13, date : 20230501\n",
      "Export started for image 6/13, date : 20230531\n",
      "Export started for image 7/13, date : 20230630\n",
      "Export started for image 8/13, date : 20230730\n",
      "Export started for image 9/13, date : 20230829\n",
      "Export started for image 10/13, date : 20230928\n",
      "Export started for image 11/13, date : 20231028\n",
      "Export started for image 12/13, date : 20231127\n",
      "Export started for image 13/13, date : 20231227\n",
      "Export started for image 1/13, date : 20230101\n",
      "Export started for image 2/13, date : 20230131\n",
      "Export started for image 3/13, date : 20230302\n",
      "Export started for image 4/13, date : 20230401\n",
      "Export started for image 5/13, date : 20230501\n",
      "Export started for image 6/13, date : 20230531\n",
      "Export started for image 7/13, date : 20230630\n",
      "Export started for image 8/13, date : 20230730\n",
      "Export started for image 9/13, date : 20230829\n",
      "Export started for image 10/13, date : 20230928\n",
      "Export started for image 11/13, date : 20231028\n",
      "Export started for image 12/13, date : 20231127\n",
      "Export started for image 13/13, date : 20231227\n",
      "Export started for image 1/13, date : 20230101\n",
      "Export started for image 2/13, date : 20230131\n",
      "Export started for image 3/13, date : 20230302\n",
      "Export started for image 4/13, date : 20230401\n",
      "Export started for image 5/13, date : 20230501\n",
      "Export started for image 6/13, date : 20230531\n",
      "Export started for image 7/13, date : 20230630\n",
      "Export started for image 8/13, date : 20230730\n",
      "Export started for image 9/13, date : 20230829\n",
      "Export started for image 10/13, date : 20230928\n",
      "Export started for image 11/13, date : 20231028\n",
      "Export started for image 12/13, date : 20231127\n",
      "Export started for image 13/13, date : 20231227\n"
     ]
    }
   ],
   "source": [
    "\n",
    "start_date = '2023-01-01'\n",
    "end_date = '2023-12-31'\n",
    "\n",
    "#ranges = generate_half_month_ranges(start_date, end_date)\n",
    "ranges = generate_date_ranges(start_date, end_date, interval_days=30)\n",
    "\n",
    "\n",
    "zone_number = 1\n",
    "\n",
    "for geometry in List_Geometry_data_collect : \n",
    "\n",
    "    zone_number += 1\n",
    "\n",
    "    # Create a list of median images for each date range\n",
    "    median_images = [get_median_image(start, end, geometry) for start, end in ranges]\n",
    "\n",
    "    # Create a collection from the images\n",
    "    image_collection = ee.ImageCollection(median_images)\n",
    "\n",
    "    folderName = f'GEE_export_zone{zone_number}'\n",
    "\n",
    "    # export to TIFF format\n",
    "    export_folder = str(folderName)\n",
    "    export_maxPixels = 1e10\n",
    "    \n",
    "    export_tiff(image_collection,geometry,export_folder,export_maxPixels )\n",
    "\n",
    "######### moove tif file from drive to ../data/tif"
   ]
  },
  {
   "cell_type": "code",
   "execution_count": 49,
   "id": "56acb19c",
   "metadata": {},
   "outputs": [
    {
     "data": {
      "text/html": [
       "\n",
       "            <style>\n",
       "                .geemap-dark {\n",
       "                    --jp-widgets-color: white;\n",
       "                    --jp-widgets-label-color: white;\n",
       "                    --jp-ui-font-color1: white;\n",
       "                    --jp-layout-color2: #454545;\n",
       "                    background-color: #383838;\n",
       "                }\n",
       "\n",
       "                .geemap-dark .jupyter-button {\n",
       "                    --jp-layout-color3: #383838;\n",
       "                }\n",
       "\n",
       "                .geemap-colab {\n",
       "                    background-color: var(--colab-primary-surface-color, white);\n",
       "                }\n",
       "\n",
       "                .geemap-colab .jupyter-button {\n",
       "                    --jp-layout-color3: var(--colab-primary-surface-color, white);\n",
       "                }\n",
       "            </style>\n",
       "            "
      ],
      "text/plain": [
       "<IPython.core.display.HTML object>"
      ]
     },
     "metadata": {},
     "output_type": "display_data"
    },
    {
     "name": "stdout",
     "output_type": "stream",
     "text": [
      "🔄  processing zone n°: zone1\n",
      "✅ ground trouth label saved : ../data/Tif/zone1/labels_raster.tif\n",
      "🔄  processing zone n°: zone2\n",
      "⚠️ no .tif founded in ../data/Tif/zone2\n",
      "🔄  processing zone n°: zone3\n",
      "⚠️ no .tif founded in ../data/Tif/zone3\n"
     ]
    }
   ],
   "source": [
    "rasterize_labels_per_zone(base_dir=\"../data/Tif\", gdf=gdf, label_column=\"LABEL\")"
   ]
  },
  {
   "cell_type": "code",
   "execution_count": 61,
   "id": "f1346274",
   "metadata": {},
   "outputs": [
    {
     "data": {
      "text/html": [
       "\n",
       "            <style>\n",
       "                .geemap-dark {\n",
       "                    --jp-widgets-color: white;\n",
       "                    --jp-widgets-label-color: white;\n",
       "                    --jp-ui-font-color1: white;\n",
       "                    --jp-layout-color2: #454545;\n",
       "                    background-color: #383838;\n",
       "                }\n",
       "\n",
       "                .geemap-dark .jupyter-button {\n",
       "                    --jp-layout-color3: #383838;\n",
       "                }\n",
       "\n",
       "                .geemap-colab {\n",
       "                    background-color: var(--colab-primary-surface-color, white);\n",
       "                }\n",
       "\n",
       "                .geemap-colab .jupyter-button {\n",
       "                    --jp-layout-color3: var(--colab-primary-surface-color, white);\n",
       "                }\n",
       "            </style>\n",
       "            "
      ],
      "text/plain": [
       "<IPython.core.display.HTML object>"
      ]
     },
     "metadata": {},
     "output_type": "display_data"
    },
    {
     "name": "stdout",
     "output_type": "stream",
     "text": [
      "🔄 Masking TIFFs in zone: zone1\n"
     ]
    },
    {
     "name": "stderr",
     "output_type": "stream",
     "text": [
      "Masking TIFFs in zone1: 100%|██████████| 13/13 [00:04<00:00,  2.88it/s]"
     ]
    },
    {
     "name": "stdout",
     "output_type": "stream",
     "text": [
      "✅ Masking done for zone zone1\n",
      "⚠️ Label raster not found in ../data/Tif/zone2, skipping.\n",
      "⚠️ Label raster not found in ../data/Tif/zone3, skipping.\n"
     ]
    },
    {
     "name": "stderr",
     "output_type": "stream",
     "text": [
      "\n"
     ]
    }
   ],
   "source": [
    "\n",
    "base_dir = \"../data/Tif\"\n",
    "mask_no_labeled_pixel_all_zones(base_dir)\n"
   ]
  }
 ],
 "metadata": {
  "kernelspec": {
   "display_name": ".venv",
   "language": "python",
   "name": "python3"
  },
  "language_info": {
   "codemirror_mode": {
    "name": "ipython",
    "version": 3
   },
   "file_extension": ".py",
   "mimetype": "text/x-python",
   "name": "python",
   "nbconvert_exporter": "python",
   "pygments_lexer": "ipython3",
   "version": "3.12.3"
  }
 },
 "nbformat": 4,
 "nbformat_minor": 5
}
