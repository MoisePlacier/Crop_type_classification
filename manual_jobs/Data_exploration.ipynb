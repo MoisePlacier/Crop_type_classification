{
 "cells": [
  {
   "cell_type": "code",
   "execution_count": 12,
   "metadata": {},
   "outputs": [],
   "source": [
    "import pandas as pd\n",
    "import geopandas as gpd\n",
    "from geopandas import GeoDataFrame\n",
    "from shapely.geometry import shape\n",
    "import numpy as np"
   ]
  },
  {
   "cell_type": "code",
   "execution_count": 2,
   "metadata": {},
   "outputs": [],
   "source": [
    "# Load the shapefile containing the parcels\n",
    "gdf = gpd.read_file(\"/Users/placiermoise/Documents/dsw_proj/Parcelles/RPG_2023/PARCELLES_GRAPHIQUES.gpkg\")"
   ]
  },
  {
   "cell_type": "code",
   "execution_count": null,
   "metadata": {},
   "outputs": [],
   "source": [
    "# Convert the CRS to WGS 84 (EPSG:4326)\n",
    "# This is necessary for compatibility with other datasets and for visualization purposes.\n",
    "# The original CRS of the shapefile is EPSG:31370, which is a Belgian Lambert 72 / Belgian Lambert 73 projection.\n",
    "# Converting to EPSG:4326 allows for easier integration with web mapping services and other geospatial data.\n",
    "gdf  = gdf.to_crs(epsg=4326)"
   ]
  },
  {
   "cell_type": "code",
   "execution_count": null,
   "metadata": {},
   "outputs": [],
   "source": [
    "\n",
    "######### add numeric label \n",
    "\n",
    "Label_culture = pd.read_csv(\"REF_CULTURES_GROUPES.csv\", sep=\";\")\n",
    "Label_culture[\"Label\"] = pd.to_numeric(Label_culture[\"Label\"], errors=\"coerce\").astype(\"Int64\")\n",
    "Label_culture[\"Label\"] = Label_culture[\"Label\"].fillna(0).astype(int)\n",
    "\n",
    "\n",
    "gdf = gdf.merge(Label_culture[[\"Label\",\"CODE_CULTURE\"]], how=\"left\", left_on=\"CODE_CULTU\", right_on=\"CODE_CULTURE\") #TODO check if this is right (CODE_CULTU)\n",
    "\n",
    "gdf = gdf.rename(columns={\"Label\": \"LABEL\"})\n"
   ]
  },
  {
   "cell_type": "code",
   "execution_count": 9,
   "metadata": {},
   "outputs": [
    {
     "ename": "NameError",
     "evalue": "name 'gdf' is not defined",
     "output_type": "error",
     "traceback": [
      "\u001b[31m---------------------------------------------------------------------------\u001b[39m",
      "\u001b[31mNameError\u001b[39m                                 Traceback (most recent call last)",
      "\u001b[36mCell\u001b[39m\u001b[36m \u001b[39m\u001b[32mIn[9]\u001b[39m\u001b[32m, line 1\u001b[39m\n\u001b[32m----> \u001b[39m\u001b[32m1\u001b[39m \u001b[43mgdf\u001b[49m\n",
      "\u001b[31mNameError\u001b[39m: name 'gdf' is not defined"
     ]
    }
   ],
   "source": [
    "gdf"
   ]
  },
  {
   "cell_type": "code",
   "execution_count": 5,
   "metadata": {},
   "outputs": [
    {
     "name": "stderr",
     "output_type": "stream",
     "text": [
      "/Users/placiermoise/Documents/remote sensing crop classification/.venv/lib/python3.12/site-packages/geemap/conversion.py:23: UserWarning: pkg_resources is deprecated as an API. See https://setuptools.pypa.io/en/latest/pkg_resources.html. The pkg_resources package is slated for removal as early as 2025-11-30. Refrain from using this package or pin to Setuptools<81.\n",
      "  import pkg_resources\n"
     ]
    }
   ],
   "source": [
    "import ee \n",
    "import geemap"
   ]
  },
  {
   "cell_type": "code",
   "execution_count": 2,
   "metadata": {},
   "outputs": [
    {
     "ename": "NameError",
     "evalue": "name 'ee' is not defined",
     "output_type": "error",
     "traceback": [
      "\u001b[31m---------------------------------------------------------------------------\u001b[39m",
      "\u001b[31mNameError\u001b[39m                                 Traceback (most recent call last)",
      "\u001b[36mCell\u001b[39m\u001b[36m \u001b[39m\u001b[32mIn[2]\u001b[39m\u001b[32m, line 1\u001b[39m\n\u001b[32m----> \u001b[39m\u001b[32m1\u001b[39m \u001b[43mee\u001b[49m.Authenticate(scopes=[\u001b[33m'\u001b[39m\u001b[33mhttps://www.googleapis.com/auth/earthengine\u001b[39m\u001b[33m'\u001b[39m,\n\u001b[32m      2\u001b[39m                         \u001b[33m'\u001b[39m\u001b[33mhttps://www.googleapis.com/auth/drive\u001b[39m\u001b[33m'\u001b[39m])\n\u001b[32m      3\u001b[39m ee.Initialize()\n",
      "\u001b[31mNameError\u001b[39m: name 'ee' is not defined"
     ]
    }
   ],
   "source": [
    "ee.Authenticate(scopes=['https://www.googleapis.com/auth/earthengine',\n",
    "                        'https://www.googleapis.com/auth/drive'])\n",
    "ee.Initialize()"
   ]
  },
  {
   "cell_type": "code",
   "execution_count": 7,
   "metadata": {},
   "outputs": [
    {
     "data": {
      "text/html": [
       "\n",
       "            <style>\n",
       "                .geemap-dark {\n",
       "                    --jp-widgets-color: white;\n",
       "                    --jp-widgets-label-color: white;\n",
       "                    --jp-ui-font-color1: white;\n",
       "                    --jp-layout-color2: #454545;\n",
       "                    background-color: #383838;\n",
       "                }\n",
       "\n",
       "                .geemap-dark .jupyter-button {\n",
       "                    --jp-layout-color3: #383838;\n",
       "                }\n",
       "\n",
       "                .geemap-colab {\n",
       "                    background-color: var(--colab-primary-surface-color, white);\n",
       "                }\n",
       "\n",
       "                .geemap-colab .jupyter-button {\n",
       "                    --jp-layout-color3: var(--colab-primary-surface-color, white);\n",
       "                }\n",
       "            </style>\n",
       "            "
      ],
      "text/plain": [
       "<IPython.core.display.HTML object>"
      ]
     },
     "metadata": {},
     "output_type": "display_data"
    },
    {
     "data": {
      "application/vnd.jupyter.widget-view+json": {
       "model_id": "071429a1ab9b458db991208218b52a72",
       "version_major": 2,
       "version_minor": 0
      },
      "text/plain": [
       "Map(center=[0, 0], controls=(WidgetControl(options=['position', 'transparent_bg'], widget=SearchDataGUI(childr…"
      ]
     },
     "execution_count": 7,
     "metadata": {},
     "output_type": "execute_result"
    }
   ],
   "source": [
    "Map = geemap.Map()\n",
    "Map"
   ]
  },
  {
   "cell_type": "code",
   "execution_count": null,
   "metadata": {},
   "outputs": [
    {
     "data": {
      "text/html": [
       "\n",
       "            <style>\n",
       "                .geemap-dark {\n",
       "                    --jp-widgets-color: white;\n",
       "                    --jp-widgets-label-color: white;\n",
       "                    --jp-ui-font-color1: white;\n",
       "                    --jp-layout-color2: #454545;\n",
       "                    background-color: #383838;\n",
       "                }\n",
       "\n",
       "                .geemap-dark .jupyter-button {\n",
       "                    --jp-layout-color3: #383838;\n",
       "                }\n",
       "\n",
       "                .geemap-colab {\n",
       "                    background-color: var(--colab-primary-surface-color, white);\n",
       "                }\n",
       "\n",
       "                .geemap-colab .jupyter-button {\n",
       "                    --jp-layout-color3: var(--colab-primary-surface-color, white);\n",
       "                }\n",
       "            </style>\n",
       "            "
      ],
      "text/plain": [
       "<IPython.core.display.HTML object>"
      ]
     },
     "metadata": {},
     "output_type": "display_data"
    }
   ],
   "source": [
    "# Draw a polygon on the map\n",
    "\n",
    "polygone_hand_draw = Map.draw_features  \n",
    "\n",
    "first_polygone = polygone_hand_draw[0] \n",
    "\n",
    "geom_hand_poly = first_polygone.geometry()\n",
    "\n",
    "geom_hand_poly\n",
    "\n",
    "Map.addLayer(geom_hand_poly, {}, \"Polygone dessiné\")"
   ]
  },
  {
   "cell_type": "code",
   "execution_count": null,
   "metadata": {},
   "outputs": [
    {
     "data": {
      "text/html": [
       "\n",
       "            <style>\n",
       "                .geemap-dark {\n",
       "                    --jp-widgets-color: white;\n",
       "                    --jp-widgets-label-color: white;\n",
       "                    --jp-ui-font-color1: white;\n",
       "                    --jp-layout-color2: #454545;\n",
       "                    background-color: #383838;\n",
       "                }\n",
       "\n",
       "                .geemap-dark .jupyter-button {\n",
       "                    --jp-layout-color3: #383838;\n",
       "                }\n",
       "\n",
       "                .geemap-colab {\n",
       "                    background-color: var(--colab-primary-surface-color, white);\n",
       "                }\n",
       "\n",
       "                .geemap-colab .jupyter-button {\n",
       "                    --jp-layout-color3: var(--colab-primary-surface-color, white);\n",
       "                }\n",
       "            </style>\n",
       "            "
      ],
      "text/plain": [
       "<IPython.core.display.HTML object>"
      ]
     },
     "metadata": {},
     "output_type": "display_data"
    }
   ],
   "source": [
    "#  Convert the GEE geometry to GeoJSON format\n",
    "# This is necessary to convert the GEE geometry into a format that can be used with shapely.  \n",
    "geom_hand_poly_json = geom_hand_poly.getInfo()\n",
    "\n",
    "#  Convert the GeoJSON to a shapely geometry\n",
    "# This allows us to use the shapely library to manipulate and analyze the geometry.\n",
    "hand_poly_shapely = shape(geom_hand_poly_json)\n",
    "\n",
    "\n",
    "# Filter the GeoDataFrame to keep only the parcels that are within the drawn polygon\n",
    "# This uses the shapely geometry to check if each parcel's geometry is within the drawn polygon.\n",
    "# The 'within' method checks if the geometry of each parcel is completely contained within the polygon.\n",
    "gdf_contained = gdf[gdf.geometry.within(hand_poly_shapely)]\n",
    "\n",
    "# Convert the filtered GeoDataFrame to GeoJSON format\n",
    "# This allows us to use the filtered data in other applications or for further processing.\n",
    "Parcelle_within_hand_Poly_geojson = gdf_contained.__geo_interface__\n",
    "\n",
    "# Convert the GeoDataFrame to an Earth Engine FeatureCollection\n",
    "# This allows us to use the filtered data in Earth Engine for further analysis or visualization.\n",
    "fc = geemap.geopandas_to_ee(gdf_contained, geodesic=False)\n",
    "fc_geom = fc.geometry()\n",
    "\n",
    "Map.addLayer(fc_geom, {}, \"parcelles\")"
   ]
  },
  {
   "cell_type": "code",
   "execution_count": 10,
   "metadata": {},
   "outputs": [
    {
     "data": {
      "text/html": [
       "\n",
       "            <style>\n",
       "                .geemap-dark {\n",
       "                    --jp-widgets-color: white;\n",
       "                    --jp-widgets-label-color: white;\n",
       "                    --jp-ui-font-color1: white;\n",
       "                    --jp-layout-color2: #454545;\n",
       "                    background-color: #383838;\n",
       "                }\n",
       "\n",
       "                .geemap-dark .jupyter-button {\n",
       "                    --jp-layout-color3: #383838;\n",
       "                }\n",
       "\n",
       "                .geemap-colab {\n",
       "                    background-color: var(--colab-primary-surface-color, white);\n",
       "                }\n",
       "\n",
       "                .geemap-colab .jupyter-button {\n",
       "                    --jp-layout-color3: var(--colab-primary-surface-color, white);\n",
       "                }\n",
       "            </style>\n",
       "            "
      ],
      "text/plain": [
       "<IPython.core.display.HTML object>"
      ]
     },
     "metadata": {},
     "output_type": "display_data"
    },
    {
     "name": "stdout",
     "output_type": "stream",
     "text": [
      "Area (m²): 30411058.04554169\n"
     ]
    }
   ],
   "source": [
    "############ Import raster from the selected zone (hand poly )\n",
    "\n",
    "\n",
    "Geometry_data_collect = geom_hand_poly\n",
    "\n",
    "# Get the area value\n",
    "area_m2 = geom_hand_poly.area(maxError=1)\n",
    "print(\"Area (m²):\", area_m2.getInfo())"
   ]
  },
  {
   "cell_type": "code",
   "execution_count": null,
   "metadata": {},
   "outputs": [
    {
     "data": {
      "text/html": [
       "\n",
       "            <style>\n",
       "                .geemap-dark {\n",
       "                    --jp-widgets-color: white;\n",
       "                    --jp-widgets-label-color: white;\n",
       "                    --jp-ui-font-color1: white;\n",
       "                    --jp-layout-color2: #454545;\n",
       "                    background-color: #383838;\n",
       "                }\n",
       "\n",
       "                .geemap-dark .jupyter-button {\n",
       "                    --jp-layout-color3: #383838;\n",
       "                }\n",
       "\n",
       "                .geemap-colab {\n",
       "                    background-color: var(--colab-primary-surface-color, white);\n",
       "                }\n",
       "\n",
       "                .geemap-colab .jupyter-button {\n",
       "                    --jp-layout-color3: var(--colab-primary-surface-color, white);\n",
       "                }\n",
       "            </style>\n",
       "            "
      ],
      "text/plain": [
       "<IPython.core.display.HTML object>"
      ]
     },
     "metadata": {},
     "output_type": "display_data"
    }
   ],
   "source": [
    "from datetime import datetime, timedelta\n",
    "\n",
    "\n",
    "start_date = '2023-01-01'\n",
    "end_date = '2023-12-31'\n",
    "bands = ['B2', 'B3', 'B4', 'B8']\n",
    "\n",
    "# Generate half-monthly date ranges\n",
    "def generate_half_month_ranges(start_date, end_date):\n",
    "    date_list = []\n",
    "    current = datetime.strptime(start_date, '%Y-%m-%d')\n",
    "    end = datetime.strptime(end_date, '%Y-%m-%d')\n",
    "\n",
    "    while current < end:\n",
    "        mid = current + timedelta(days=15)\n",
    "        end_of_month = (current.replace(day=28) + timedelta(days=4)).replace(day=1)\n",
    "\n",
    "        date_list.append((current.strftime('%Y-%m-%d'), min(mid, end).strftime('%Y-%m-%d')))\n",
    "        date_list.append((min(mid, end).strftime('%Y-%m-%d'), min(end_of_month, end).strftime('%Y-%m-%d')))\n",
    "\n",
    "        current = end_of_month\n",
    "\n",
    "    return date_list\n",
    "\n",
    "def generate_date_ranges(start_date, end_date, interval_days=15):\n",
    "    \"\"\"\n",
    "    Génère des intervalles de dates de `interval_days` jours entre `start_date` et `end_date`.\n",
    "\n",
    "    Args:\n",
    "        start_date (str): Date de début au format 'YYYY-MM-DD'.\n",
    "        end_date (str): Date de fin au format 'YYYY-MM-DD'.\n",
    "        interval_days (int): Longueur de chaque intervalle en jours.\n",
    "\n",
    "    Returns:\n",
    "        List[Tuple[str, str]]: Liste de tuples (date_début, date_fin).\n",
    "    \"\"\"\n",
    "    date_list = []\n",
    "    current = datetime.strptime(start_date, '%Y-%m-%d')\n",
    "    end = datetime.strptime(end_date, '%Y-%m-%d')\n",
    "\n",
    "    while current < end:\n",
    "        next_date = current + timedelta(days=interval_days)\n",
    "        date_list.append((\n",
    "            current.strftime('%Y-%m-%d'),\n",
    "            min(next_date, end).strftime('%Y-%m-%d')\n",
    "        ))\n",
    "        current = next_date\n",
    "\n",
    "    return date_list\n",
    "\n",
    "# Generate date ranges with a 30-day interval\n",
    "#ranges = generate_half_month_ranges(start_date, end_date)\n",
    "ranges = generate_date_ranges(start_date, end_date, interval_days=30)"
   ]
  },
  {
   "cell_type": "code",
   "execution_count": null,
   "metadata": {},
   "outputs": [
    {
     "data": {
      "text/html": [
       "\n",
       "            <style>\n",
       "                .geemap-dark {\n",
       "                    --jp-widgets-color: white;\n",
       "                    --jp-widgets-label-color: white;\n",
       "                    --jp-ui-font-color1: white;\n",
       "                    --jp-layout-color2: #454545;\n",
       "                    background-color: #383838;\n",
       "                }\n",
       "\n",
       "                .geemap-dark .jupyter-button {\n",
       "                    --jp-layout-color3: #383838;\n",
       "                }\n",
       "\n",
       "                .geemap-colab {\n",
       "                    background-color: var(--colab-primary-surface-color, white);\n",
       "                }\n",
       "\n",
       "                .geemap-colab .jupyter-button {\n",
       "                    --jp-layout-color3: var(--colab-primary-surface-color, white);\n",
       "                }\n",
       "            </style>\n",
       "            "
      ],
      "text/plain": [
       "<IPython.core.display.HTML object>"
      ]
     },
     "metadata": {},
     "output_type": "display_data"
    },
    {
     "name": "stdout",
     "output_type": "stream",
     "text": [
      "Nombre d'images médianes : 12\n"
     ]
    }
   ],
   "source": [
    "def mask_scl(img):\n",
    "    scl = img.select('SCL')\n",
    "    # Mask all pixels that are NOT in classes 4 to 7\n",
    "    mask = (scl.eq(4)\n",
    "           .Or(scl.eq(5))\n",
    "           .Or(scl.eq(6))\n",
    "           .Or(scl.eq(7)))\n",
    "    return img.updateMask(mask)\n",
    "\n",
    "def get_median_image(start, end, Geometry_data_collect):\n",
    "    # Load the useful bands + SCL\n",
    "    collection = ee.ImageCollection(\"COPERNICUS/S2_SR_HARMONIZED\") \\\n",
    "        .filterBounds(Geometry_data_collect) \\\n",
    "        .filterDate(start, end) \\\n",
    "        .map(lambda img: img.clip(Geometry_data_collect)) \\\n",
    "        .map(mask_scl) \\\n",
    "        .select(bands)\n",
    "\n",
    "    def compute_median():\n",
    "        return collection.median() \\\n",
    "            .set('system:time_start', ee.Date(start).millis()) \\\n",
    "            .set('start_date', start) \\\n",
    "            .set('end_date', end) \\\n",
    "            .set('Number_of_aggreted_images', size)\n",
    "\n",
    "    size = collection.size()\n",
    "    median = ee.Algorithms.If(size.gt(0), compute_median(), None)\n",
    "    return median\n",
    "\n",
    "# Create a list of median images for each date range\n",
    "median_images = [get_median_image(start, end, Geometry_data_collect) for start, end in ranges]\n",
    "\n",
    "# Create a collection from the images\n",
    "s2 = ee.ImageCollection(median_images)\n",
    "\n",
    "# Example: print the size of the collection\n",
    "print(\"Number of median images:\", s2.size().getInfo())\n"
   ]
  },
  {
   "cell_type": "code",
   "execution_count": null,
   "metadata": {},
   "outputs": [
    {
     "data": {
      "text/html": [
       "\n",
       "            <style>\n",
       "                .geemap-dark {\n",
       "                    --jp-widgets-color: white;\n",
       "                    --jp-widgets-label-color: white;\n",
       "                    --jp-ui-font-color1: white;\n",
       "                    --jp-layout-color2: #454545;\n",
       "                    background-color: #383838;\n",
       "                }\n",
       "\n",
       "                .geemap-dark .jupyter-button {\n",
       "                    --jp-layout-color3: #383838;\n",
       "                }\n",
       "\n",
       "                .geemap-colab {\n",
       "                    background-color: var(--colab-primary-surface-color, white);\n",
       "                }\n",
       "\n",
       "                .geemap-colab .jupyter-button {\n",
       "                    --jp-layout-color3: var(--colab-primary-surface-color, white);\n",
       "                }\n",
       "            </style>\n",
       "            "
      ],
      "text/plain": [
       "<IPython.core.display.HTML object>"
      ]
     },
     "metadata": {},
     "output_type": "display_data"
    },
    {
     "name": "stdout",
     "output_type": "stream",
     "text": [
      "Image 0 composée de 6 images \n",
      "Image 1 composée de 6 images \n",
      "Image 2 composée de 6 images \n",
      "Image 3 composée de 6 images \n",
      "Image 4 composée de 6 images \n",
      "Image 5 composée de 6 images \n",
      "Image 6 composée de 7 images \n",
      "Image 7 composée de 6 images \n",
      "Image 8 composée de 6 images \n",
      "Image 9 composée de 6 images \n",
      "Image 10 composée de 6 images \n",
      "Image 11 composée de 6 images \n",
      "73\n"
     ]
    }
   ],
   "source": [
    "s2_list = s2.toList(s2.size())\n",
    "n_images = s2.size().getInfo()\n",
    "total_n_img = 0\n",
    "for i in range(n_images):\n",
    "    img = ee.Image(s2_list.get(i))\n",
    "    props = img.toDictionary().getInfo()\n",
    "    \n",
    "    num_agg = props['Number_of_aggreted_images']\n",
    "    total_n_img += num_agg\n",
    "    print(f\"Image {i} composed by {num_agg} images \" )\n",
    "\n",
    "print(total_n_img)"
   ]
  },
  {
   "cell_type": "code",
   "execution_count": null,
   "metadata": {},
   "outputs": [
    {
     "data": {
      "text/html": [
       "\n",
       "            <style>\n",
       "                .geemap-dark {\n",
       "                    --jp-widgets-color: white;\n",
       "                    --jp-widgets-label-color: white;\n",
       "                    --jp-ui-font-color1: white;\n",
       "                    --jp-layout-color2: #454545;\n",
       "                    background-color: #383838;\n",
       "                }\n",
       "\n",
       "                .geemap-dark .jupyter-button {\n",
       "                    --jp-layout-color3: #383838;\n",
       "                }\n",
       "\n",
       "                .geemap-colab {\n",
       "                    background-color: var(--colab-primary-surface-color, white);\n",
       "                }\n",
       "\n",
       "                .geemap-colab .jupyter-button {\n",
       "                    --jp-layout-color3: var(--colab-primary-surface-color, white);\n",
       "                }\n",
       "            </style>\n",
       "            "
      ],
      "text/plain": [
       "<IPython.core.display.HTML object>"
      ]
     },
     "metadata": {},
     "output_type": "display_data"
    },
    {
     "data": {
      "application/vnd.jupyter.widget-view+json": {
       "model_id": "071429a1ab9b458db991208218b52a72",
       "version_major": 2,
       "version_minor": 0
      },
      "text/plain": [
       "Map(bottom=765715.0, center=[43.64500738037024, 1.0472463503494793], controls=(WidgetControl(options=['positio…"
      ]
     },
     "execution_count": 14,
     "metadata": {},
     "output_type": "execute_result"
    }
   ],
   "source": [
    "\n",
    "# Define visualization parameters for Sentinel-2 imagery\n",
    "# (Red: B4, Green: B3, Blue: B2)\n",
    "vis_params = {\n",
    "    'bands': ['B4', 'B3', 'B2'],  # RGB\n",
    "    'min': 0,\n",
    "    'max': 3000,\n",
    "    'gamma': 1.3\n",
    "}\n",
    "\n",
    "# Center the map on the feature collection (fc)\n",
    "Map.centerObject(fc, zoom=10)  \n",
    "\n",
    "img_n = 6\n",
    "\n",
    "s2_list = s2.toList(s2.size())\n",
    "image = ee.Image(s2_list.get(img_n))\n",
    "Map.addLayer(geom_hand_poly, {}, \"Polygone dessiné\")\n",
    "Map.addLayer(image, vis_params, f'Sentinel-2 RGB {img_n}')\n",
    "\n",
    "Map"
   ]
  },
  {
   "cell_type": "code",
   "execution_count": null,
   "metadata": {},
   "outputs": [
    {
     "data": {
      "text/html": [
       "\n",
       "            <style>\n",
       "                .geemap-dark {\n",
       "                    --jp-widgets-color: white;\n",
       "                    --jp-widgets-label-color: white;\n",
       "                    --jp-ui-font-color1: white;\n",
       "                    --jp-layout-color2: #454545;\n",
       "                    background-color: #383838;\n",
       "                }\n",
       "\n",
       "                .geemap-dark .jupyter-button {\n",
       "                    --jp-layout-color3: #383838;\n",
       "                }\n",
       "\n",
       "                .geemap-colab {\n",
       "                    background-color: var(--colab-primary-surface-color, white);\n",
       "                }\n",
       "\n",
       "                .geemap-colab .jupyter-button {\n",
       "                    --jp-layout-color3: var(--colab-primary-surface-color, white);\n",
       "                }\n",
       "            </style>\n",
       "            "
      ],
      "text/plain": [
       "<IPython.core.display.HTML object>"
      ]
     },
     "metadata": {},
     "output_type": "display_data"
    }
   ],
   "source": [
    "# Export the images to Google Drive as TIFF files\n",
    "def export_tiff(image_collection,Geometry_data_collect,export_folder,export_maxPixels ): \n",
    "    # pixel overlap\n",
    "\n",
    "    image_list = image_collection.toList(image_collection.size())\n",
    "    n = image_collection.size().getInfo()\n",
    "    \n",
    "    for i in range(n):\n",
    "        image = ee.Image(image_list.get(i)).clip(Geometry_data_collect)\n",
    "        \n",
    "        # Build a unique name, for example acquisition date\n",
    "        date_str = image.date().format('YYYYMMdd').getInfo()\n",
    "        task = ee.batch.Export.image.toDrive(\n",
    "            image=image,\n",
    "            description= \"export\",\n",
    "            folder=export_folder,\n",
    "            fileNamePrefix=f'sentinel2_{date_str}',\n",
    "            region=Geometry_data_collect,\n",
    "            scale=10,\n",
    "            crs='EPSG:4326',\n",
    "            maxPixels=export_maxPixels\n",
    "        )\n",
    "        task.start()\n",
    "        print(f\"Export started for image {i+1}/{n}, date : {date_str}\")"
   ]
  },
  {
   "cell_type": "code",
   "execution_count": null,
   "metadata": {},
   "outputs": [
    {
     "data": {
      "text/html": [
       "\n",
       "            <style>\n",
       "                .geemap-dark {\n",
       "                    --jp-widgets-color: white;\n",
       "                    --jp-widgets-label-color: white;\n",
       "                    --jp-ui-font-color1: white;\n",
       "                    --jp-layout-color2: #454545;\n",
       "                    background-color: #383838;\n",
       "                }\n",
       "\n",
       "                .geemap-dark .jupyter-button {\n",
       "                    --jp-layout-color3: #383838;\n",
       "                }\n",
       "\n",
       "                .geemap-colab {\n",
       "                    background-color: var(--colab-primary-surface-color, white);\n",
       "                }\n",
       "\n",
       "                .geemap-colab .jupyter-button {\n",
       "                    --jp-layout-color3: var(--colab-primary-surface-color, white);\n",
       "                }\n",
       "            </style>\n",
       "            "
      ],
      "text/plain": [
       "<IPython.core.display.HTML object>"
      ]
     },
     "metadata": {},
     "output_type": "display_data"
    },
    {
     "name": "stdout",
     "output_type": "stream",
     "text": [
      "Export lancé pour l’image 1/12, date : 20230101\n",
      "Export lancé pour l’image 2/12, date : 20230131\n",
      "Export lancé pour l’image 3/12, date : 20230302\n",
      "Export lancé pour l’image 4/12, date : 20230401\n",
      "Export lancé pour l’image 5/12, date : 20230501\n",
      "Export lancé pour l’image 6/12, date : 20230531\n",
      "Export lancé pour l’image 7/12, date : 20230630\n",
      "Export lancé pour l’image 8/12, date : 20230730\n",
      "Export lancé pour l’image 9/12, date : 20230829\n",
      "Export lancé pour l’image 10/12, date : 20230928\n",
      "Export lancé pour l’image 11/12, date : 20231028\n",
      "Export lancé pour l’image 12/12, date : 20231127\n"
     ]
    }
   ],
   "source": [
    "# export to TIFF format\n",
    "image_collection = s2\n",
    "export_folder = 'GEE_export_6_median'\n",
    "export_maxPixels = 1e10\n",
    "\n",
    "\n",
    "export_tiff(image_collection,Geometry_data_collect,export_folder,export_maxPixels )"
   ]
  },
  {
   "cell_type": "code",
   "execution_count": null,
   "metadata": {},
   "outputs": [
    {
     "data": {
      "text/html": [
       "\n",
       "            <style>\n",
       "                .geemap-dark {\n",
       "                    --jp-widgets-color: white;\n",
       "                    --jp-widgets-label-color: white;\n",
       "                    --jp-ui-font-color1: white;\n",
       "                    --jp-layout-color2: #454545;\n",
       "                    background-color: #383838;\n",
       "                }\n",
       "\n",
       "                .geemap-dark .jupyter-button {\n",
       "                    --jp-layout-color3: #383838;\n",
       "                }\n",
       "\n",
       "                .geemap-colab {\n",
       "                    background-color: var(--colab-primary-surface-color, white);\n",
       "                }\n",
       "\n",
       "                .geemap-colab .jupyter-button {\n",
       "                    --jp-layout-color3: var(--colab-primary-surface-color, white);\n",
       "                }\n",
       "            </style>\n",
       "            "
      ],
      "text/plain": [
       "<IPython.core.display.HTML object>"
      ]
     },
     "metadata": {},
     "output_type": "display_data"
    },
    {
     "name": "stdout",
     "output_type": "stream",
     "text": [
      "Nombre de pixels valides dans B2 : 141726\n"
     ]
    }
   ],
   "source": [
    "# Pixel Count\n",
    "s2_first_img = ee.Image(s2.first())  # or .mosaic() if you want to avoid the clouds\n",
    "\n",
    "# Option 1 : pixelCount\n",
    "pixel_count = s2_first_img.select('B2').reduceRegion(\n",
    "    reducer=ee.Reducer.count(),\n",
    "    geometry=Geometry_data_collect,\n",
    "    scale=10,\n",
    "    maxPixels=1e9\n",
    ")\n",
    "\n",
    "print(\"Number of valid pixels in B2 :\", pixel_count.getInfo()['B2'])"
   ]
  },
  {
   "cell_type": "code",
   "execution_count": 37,
   "metadata": {},
   "outputs": [],
   "source": [
    "import os as os\n",
    "import tqdm \n",
    "import rasterio as rasterio\n",
    "base_dir = \"../data/Tif\""
   ]
  },
  {
   "cell_type": "code",
   "execution_count": null,
   "metadata": {},
   "outputs": [
    {
     "name": "stdout",
     "output_type": "stream",
     "text": [
      "[[30 30 30 ... 30 30 30]\n",
      " [30 30 30 ... 30 30 30]\n",
      " [30 30 30 ... 30 30 30]\n",
      " ...\n",
      " [30 30 30 ...  8  8  8]\n",
      " [30 30 30 ...  8  8  8]\n",
      " [30 30 30 ...  8  8  8]]\n",
      "Unique IDs: [ 0  3  4  6  7  8  9 10 14 15 16 17 18 20 21 22 28 29 30 31 33 36 41 42\n",
      " 45 46 47 48 49]\n",
      "[ 0  6  7  8 20 22 30 36 41 45]\n"
     ]
    },
    {
     "data": {
      "image/png": "[encoded data removed]",
      "text/plain": [
       "<Figure size 640x480 with 1 Axes>"
      ]
     },
     "metadata": {},
     "output_type": "display_data"
    }
   ],
   "source": [
    "import rasterio\n",
    "import matplotlib.pyplot as plt\n",
    "\n",
    "# Open the TIFF file\n",
    "with rasterio.open('../data/Tif/zone32/labels_raster_masked.tif') as src:\n",
    "    img = src.read(1) \n",
    "    print(img)\n",
    "\n",
    "    # img.shape = (H, W)\n",
    "    H  , W = img.shape[:2]\n",
    "    zoom_factor = 8\n",
    "\n",
    "    # Taille du patch zoomé\n",
    "    zoom_h = H // zoom_factor\n",
    "    zoom_w = W // zoom_factor\n",
    "\n",
    "    # Exemple : zoomer sur le coin supérieur droit\n",
    "    zoomed_img = img[0:zoom_h, W - zoom_w:W]\n",
    "    unique_ids = np.unique(zoomed_img)\n",
    "    print(unique_ids)\n",
    "\n",
    "\n",
    "    \n",
    "\n",
    "\n",
    "plt.imshow(zoomed_img, cmap='tab20')  # or 'viridis', 'jet', etc.\n",
    "\n",
    "plt.title('Image TIFF - bande 1')\n",
    "plt.axis('off')\n",
    "plt.show()\n",
    "\n",
    "\n",
    "#src.close()"
   ]
  },
  {
   "cell_type": "code",
   "execution_count": 62,
   "metadata": {},
   "outputs": [
    {
     "data": {
      "image/png": "[encoded data removed]",
      "text/plain": [
       "<Figure size 1000x800 with 1 Axes>"
      ]
     },
     "metadata": {},
     "output_type": "display_data"
    }
   ],
   "source": [
    "import matplotlib.pyplot as plt\n",
    "import matplotlib.patches as mpatches\n",
    "import numpy as np\n",
    "import rasterio\n",
    "\n",
    "# Ton label_map\n",
    "label_map = {\n",
    "    1: \"Garlic\", 2: \"Winter_Oat\", 3: \"Spring_Oat\", 4: \"Winter_Durum_Wheat\", 5: \"Spring_Durum_Wheat\",\n",
    "    6: \"Meadow\", 7: \"Buffer_Strip\", 8: \"Winter_Wheat\", 9: \"Beet\", 10: \"Spring_Wheat\",\n",
    "    11: \"Carrot\", 12: \"Cucumber_Gherkin\", 13: \"Buckwheat\", 14: \"Sorghum\", 15: \"Winter_Rye\",\n",
    "    16: \"Fodder\", 17: \"Rapeseed\", 18: \"Spelt\", 19: \"Spinach\", 20: \"Annual_Vegetable_Fruit\",\n",
    "    21: \"Perennial_Vegetable_Fruit\", 23: \"Hops\", 24: \"Lavender_Lavandin\", 25: \"Lettuce_Batavia_Oak_Leaf\",\n",
    "    26: \"Grain_Lentil\", 27: \"Spring_Oil_Flax\", 28: \"Alfalfa\", 29: \"Forage_Legume_Cereal_Oilseed_Mix\",\n",
    "    30: \"Maize\", 31: \"Forage_Legume_Mix\", 32: \"Melon\", 33: \"Early_Proteaginous_Cereal_Mix\",\n",
    "    34: \"Onion_Shallot\", 35: \"Olive\", 36: \"Barley\", 37: \"Chickpea\", 38: \"Winter_Pea\",\n",
    "    39: \"Pumpkin_Red_Kuri\", 40: \"Early_Spring_Pea\", 41: \"Potato\", 42: \"Williams_Pear\",\n",
    "    43: \"Vineyard\", 44: \"Sainfoin\", 45: \"Soybean\", 46: \"Clover\", 47: \"Sunflower\",\n",
    "    48: \"Winter_Triticale\", 49: \"Orchard\", 0: \"Not a field crops\", 22: \"Other\"\n",
    "}\n",
    "\n",
    "# Ouvrir l'image raster\n",
    "with rasterio.open('../data/Tif/zone32/labels_raster_masked.tif') as src:\n",
    "    img = src.read(1)\n",
    "    H, W = img.shape\n",
    "    zoom_factor = 8\n",
    "    zoom_h = H // zoom_factor\n",
    "    zoom_w = W // zoom_factor\n",
    "    zoomed_img = img[0:zoom_h, W - zoom_w:W]\n",
    "    unique_ids = np.unique(zoomed_img)\n",
    "\n",
    "# Palette de couleurs automatique\n",
    "cmap = plt.get_cmap('tab20', np.max(unique_ids) + 1)\n",
    "\n",
    "# Affichage de l'image\n",
    "plt.figure(figsize=(10, 8))\n",
    "im = plt.imshow(zoomed_img, cmap=cmap, vmin=0, vmax=np.max(unique_ids))\n",
    "plt.axis('off')\n",
    "\n",
    "# Générer les légendes\n",
    "legend_elements = []\n",
    "for cls_id in unique_ids:\n",
    "    if cls_id in label_map:\n",
    "        color = cmap(int(cls_id))  # Couleur dans la colormap\n",
    "        patch = mpatches.Patch(color=color, label=label_map[int(cls_id)])\n",
    "        legend_elements.append(patch)\n",
    "\n",
    "# Afficher la légende en dehors du plot\n",
    "plt.legend(handles=legend_elements, loc='center left', bbox_to_anchor=(1.01, 0.5), title=\"Classes\")\n",
    "plt.tight_layout()\n",
    "plt.show()"
   ]
  },
  {
   "cell_type": "code",
   "execution_count": 62,
   "metadata": {},
   "outputs": [
    {
     "ename": "NameError",
     "evalue": "name 'gdf_contained' is not defined",
     "output_type": "error",
     "traceback": [
      "\u001b[31m---------------------------------------------------------------------------\u001b[39m",
      "\u001b[31mNameError\u001b[39m                                 Traceback (most recent call last)",
      "\u001b[36mCell\u001b[39m\u001b[36m \u001b[39m\u001b[32mIn[62]\u001b[39m\u001b[32m, line 6\u001b[39m\n\u001b[32m      3\u001b[39m \u001b[38;5;28;01mimport\u001b[39;00m\u001b[38;5;250m \u001b[39m\u001b[34;01mgeopandas\u001b[39;00m\u001b[38;5;250m \u001b[39m\u001b[38;5;28;01mas\u001b[39;00m\u001b[38;5;250m \u001b[39m\u001b[34;01mgpd\u001b[39;00m\n\u001b[32m      5\u001b[39m \u001b[38;5;66;03m# Load annotation polygons (with a \"class_id\" field)\u001b[39;00m\n\u001b[32m----> \u001b[39m\u001b[32m6\u001b[39m gdf_to_rasterize = \u001b[43mgdf_contained\u001b[49m\n\u001b[32m      8\u001b[39m \u001b[38;5;66;03m# Load a reference image to retrieve the size, transform, and projection\u001b[39;00m\n\u001b[32m      9\u001b[39m \u001b[38;5;28;01mwith\u001b[39;00m rasterio.open(\u001b[33m'\u001b[39m\u001b[33m/Users/placiermoise/Library/CloudStorage/GoogleDrive-moise.placier@gmail.com/Mon Drive/GEE_export_6_median/sentinel2_2.tif\u001b[39m\u001b[33m'\u001b[39m) \u001b[38;5;28;01mas\u001b[39;00m src:\n",
      "\u001b[31mNameError\u001b[39m: name 'gdf_contained' is not defined"
     ]
    }
   ],
   "source": [
    "import rasterio\n",
    "from rasterio.features import rasterize\n",
    "import geopandas as gpd\n",
    "\n",
    "# Load annotation polygons (with a \"class_id\" field)\n",
    "gdf_to_rasterize = gdf_contained\n",
    "\n",
    "# Load a reference image to retrieve the size, transform, and projection\n",
    "with rasterio.open('/Users/placiermoise/Library/CloudStorage/GoogleDrive-moise.placier@gmail.com/Mon Drive/GEE_export_6_median/sentinel2_2.tif') as src:\n",
    "    meta = src.meta.copy()\n",
    "\n",
    "# Rasterize \n",
    "shapes = ((geom, value) for geom, value in zip(gdf_to_rasterize.geometry, gdf_to_rasterize['LABEL']))\n",
    "label_raster = rasterize(\n",
    "    shapes,\n",
    "    out_shape=(meta['height'], meta['width']),\n",
    "    transform=meta['transform'],\n",
    "    fill=0,  # background label\n",
    "    dtype=rasterio.uint8\n",
    ")\n",
    "\n",
    "# Sauvegarder le raster labelisé\n",
    "meta.update({'count': 1, 'dtype': rasterio.uint8})\n",
    "with rasterio.open('labels_raster.tif', 'w', **meta) as dst:\n",
    "    dst.write(label_raster, 1)\n",
    "\n",
    "with rasterio.open('labels_raster.tif') as src:\n",
    "    img = src.read(1)   # read the first band\n",
    "\n",
    "plt.imshow(img, cmap='jet')  \n",
    "plt.colorbar()\n",
    "plt.title('Image TIFF - band 1')\n",
    "plt.show()"
   ]
  },
  {
   "cell_type": "code",
   "execution_count": null,
   "metadata": {},
   "outputs": [
    {
     "data": {
      "text/html": [
       "\n",
       "            <style>\n",
       "                .geemap-dark {\n",
       "                    --jp-widgets-color: white;\n",
       "                    --jp-widgets-label-color: white;\n",
       "                    --jp-ui-font-color1: white;\n",
       "                    --jp-layout-color2: #454545;\n",
       "                    background-color: #383838;\n",
       "                }\n",
       "\n",
       "                .geemap-dark .jupyter-button {\n",
       "                    --jp-layout-color3: #383838;\n",
       "                }\n",
       "\n",
       "                .geemap-colab {\n",
       "                    background-color: var(--colab-primary-surface-color, white);\n",
       "                }\n",
       "\n",
       "                .geemap-colab .jupyter-button {\n",
       "                    --jp-layout-color3: var(--colab-primary-surface-color, white);\n",
       "                }\n",
       "            </style>\n",
       "            "
      ],
      "text/plain": [
       "<IPython.core.display.HTML object>"
      ]
     },
     "metadata": {},
     "output_type": "display_data"
    },
    {
     "data": {
      "text/plain": [
       "array([[0, 0, 0, ..., 0, 0, 0],\n",
       "       [0, 0, 0, ..., 0, 0, 0],\n",
       "       [0, 0, 0, ..., 0, 0, 0],\n",
       "       ...,\n",
       "       [0, 0, 0, ..., 0, 0, 0],\n",
       "       [0, 0, 0, ..., 0, 0, 0],\n",
       "       [0, 0, 0, ..., 0, 0, 0]], shape=(497, 850), dtype=uint8)"
      ]
     },
     "execution_count": 23,
     "metadata": {},
     "output_type": "execute_result"
    }
   ],
   "source": [
    "\n",
    "with rasterio.open('labels_raster.tif') as src:\n",
    "    img_reference = src.read(1)  # read the first band\n",
    "\n",
    "img_reference"
   ]
  },
  {
   "cell_type": "code",
   "execution_count": null,
   "metadata": {},
   "outputs": [
    {
     "data": {
      "text/html": [
       "\n",
       "            <style>\n",
       "                .geemap-dark {\n",
       "                    --jp-widgets-color: white;\n",
       "                    --jp-widgets-label-color: white;\n",
       "                    --jp-ui-font-color1: white;\n",
       "                    --jp-layout-color2: #454545;\n",
       "                    background-color: #383838;\n",
       "                }\n",
       "\n",
       "                .geemap-dark .jupyter-button {\n",
       "                    --jp-layout-color3: #383838;\n",
       "                }\n",
       "\n",
       "                .geemap-colab {\n",
       "                    background-color: var(--colab-primary-surface-color, white);\n",
       "                }\n",
       "\n",
       "                .geemap-colab .jupyter-button {\n",
       "                    --jp-layout-color3: var(--colab-primary-surface-color, white);\n",
       "                }\n",
       "            </style>\n",
       "            "
      ],
      "text/plain": [
       "<IPython.core.display.HTML object>"
      ]
     },
     "metadata": {},
     "output_type": "display_data"
    },
    {
     "name": "stderr",
     "output_type": "stream",
     "text": [
      "mask des TIF: 100%|██████████| 12/12 [00:02<00:00,  5.44it/s]\n"
     ]
    }
   ],
   "source": [
    "import os\n",
    "import argparse\n",
    "import numpy as np\n",
    "import h5py\n",
    "import rasterio\n",
    "from rasterio.windows import Window\n",
    "from tqdm import tqdm\n",
    "\n",
    "\n",
    "tif_dir = '/Users/placiermoise/Library/CloudStorage/GoogleDrive-moise.placier@gmail.com/Mon Drive/GEE_export_6_median/'\n",
    "\n",
    "def mask_no_label(tif_dir):\n",
    "    with rasterio.open('labels_raster.tif') as src:\n",
    "        img_reference = src.read(1) # read the first band\n",
    "    # Get all tif files sorted by date\n",
    "    tif_files = sorted([os.path.join(tif_dir, f) for f in os.listdir(tif_dir) if f.endswith('.tif')])\n",
    "\n",
    "    for tif_path in tqdm(tif_files, desc=\"mask for TIFF images\"):\n",
    "        with rasterio.open(tif_path) as src:\n",
    "            data = src.read()  # Shape: (bands, height, width)\n",
    "            profile = src.profile\n",
    "            # Mask: True where the reference value is 0\n",
    "            mask = (img_reference == 0)\n",
    "            # Apply the mask to all bands\n",
    "            data[:, mask] = 0\n",
    "        # Saving to a new file\n",
    "        base_name = os.path.basename(tif_path).replace('.tif', '_masked.tif')\n",
    "        output_path = os.path.join('data/Tif', base_name)\n",
    "\n",
    "       # Writing the masked file\n",
    "        with rasterio.open(output_path, 'w', **profile) as dst:\n",
    "            dst.write(data)\n",
    "\n",
    "mask_no_label(tif_dir)"
   ]
  },
  {
   "cell_type": "code",
   "execution_count": 60,
   "metadata": {},
   "outputs": [
    {
     "name": "stdout",
     "output_type": "stream",
     "text": [
      "File size: 259.84 MB\n",
      "\n",
      "Keys found in the HDF5 file:\n",
      "- ID_Parcelles : shape=(7938, 24, 24), dtype=float32\n",
      "- coords : shape=(7938, 2), dtype=float64\n",
      "- data : shape=(7938, 12, 4, 24, 24), dtype=float32\n",
      "- dates : shape=(7938,), dtype=object\n",
      "- labels : shape=(7938, 24, 24), dtype=float32\n",
      "- zones : shape=(7938,), dtype=object\n"
     ]
    }
   ],
   "source": [
    "import h5py\n",
    "import os\n",
    "\n",
    "# Path to your HDF5 file\n",
    "h5_path = '../data/dataset.h5'\n",
    "\n",
    "# File size on disk (in MB)\n",
    "file_size_mb = os.path.getsize(h5_path) / (1024 * 1024)\n",
    "print(f\"File size: {file_size_mb:.2f} MB\")\n",
    "\n",
    "# Open and inspect the content\n",
    "with h5py.File(h5_path, 'r') as f:\n",
    "    print(\"\\nKeys found in the HDF5 file:\")\n",
    "    for key in f.keys():\n",
    "        data = f[key]\n",
    "        print(f\"- {key} : shape={data.shape}, dtype={data.dtype}\")"
   ]
  },
  {
   "cell_type": "code",
   "execution_count": 89,
   "metadata": {},
   "outputs": [
    {
     "name": "stdout",
     "output_type": "stream",
     "text": [
      "/Users/placiermoise/Documents/dsw_proj/remote sensing crop classification/manual_jobs\n"
     ]
    }
   ],
   "source": [
    "import os\n",
    "print(os.getcwd())\n",
    "# Exemple : changer vers un sous-dossier \"data\"\n",
    "os.chdir(\"/Users/placiermoise/Documents/dsw_proj/remote sensing crop classification/manual_jobs\")"
   ]
  },
  {
   "cell_type": "code",
   "execution_count": 13,
   "metadata": {},
   "outputs": [
    {
     "name": "stdout",
     "output_type": "stream",
     "text": [
      "uniques label : ['zone10' 'zone12' 'zone13' 'zone14' 'zone15' 'zone17' 'zone18' 'zone19'\n",
      " 'zone2' 'zone20' 'zone21' 'zone23' 'zone24' 'zone25' 'zone26' 'zone28'\n",
      " 'zone29' 'zone3' 'zone30' 'zone31' 'zone33' 'zone34' 'zone35' 'zone36'\n",
      " 'zone38' 'zone39' 'zone4' 'zone40' 'zone41' 'zone5' 'zone7' 'zone8'\n",
      " 'zone9']\n"
     ]
    }
   ],
   "source": [
    "import h5py\n",
    "import numpy as np\n",
    "\n",
    "with h5py.File(\"dataset_val_train.h5\", \"r\") as f:\n",
    "    zones = f[\"zones\"][:].astype(str).flatten()\n",
    "    unique_zones = np.unique(zones)\n",
    "\n",
    "print(\"uniques label :\", unique_zones)\n",
    "\n",
    " "
   ]
  },
  {
   "cell_type": "code",
   "execution_count": null,
   "metadata": {},
   "outputs": [],
   "source": [
    "zones_sorted = sorted(zones, key=lambda z: float(z))\n",
    "\n",
    "print(zones_sorted)\n"
   ]
  },
  {
   "cell_type": "code",
   "execution_count": 21,
   "metadata": {},
   "outputs": [
    {
     "name": "stdout",
     "output_type": "stream",
     "text": [
      "Nombre d'instances par classe :\n",
      "Classe 0.0: 11718020 pixels\n",
      "Classe 1.0: 24750 pixels\n",
      "Classe 2.0: 46675 pixels\n",
      "Classe 3.0: 22765 pixels\n",
      "Classe 4.0: 747714 pixels\n",
      "Classe 5.0: 31198 pixels\n",
      "Classe 6.0: 2967772 pixels\n",
      "Classe 7.0: 99263 pixels\n",
      "Classe 8.0: 8976364 pixels\n",
      "Classe 9.0: 1333572 pixels\n",
      "Classe 10.0: 50023 pixels\n",
      "Classe 11.0: 41048 pixels\n",
      "Classe 12.0: 8746 pixels\n",
      "Classe 13.0: 56286 pixels\n",
      "Classe 14.0: 98330 pixels\n",
      "Classe 15.0: 25367 pixels\n",
      "Classe 16.0: 59358 pixels\n",
      "Classe 17.0: 2062228 pixels\n",
      "Classe 18.0: 39777 pixels\n",
      "Classe 19.0: 12938 pixels\n",
      "Classe 20.0: 31864 pixels\n",
      "Classe 21.0: 47185 pixels\n",
      "Classe 22.0: 100791 pixels\n",
      "Classe 23.0: 15865 pixels\n",
      "Classe 24.0: 91483 pixels\n",
      "Classe 25.0: 45640 pixels\n",
      "Classe 26.0: 46291 pixels\n",
      "Classe 27.0: 107608 pixels\n",
      "Classe 28.0: 689084 pixels\n",
      "Classe 29.0: 51946 pixels\n",
      "Classe 30.0: 5330944 pixels\n",
      "Classe 31.0: 170163 pixels\n",
      "Classe 32.0: 43973 pixels\n",
      "Classe 33.0: 162037 pixels\n",
      "Classe 34.0: 99178 pixels\n",
      "Classe 35.0: 44903 pixels\n",
      "Classe 36.0: 1666374 pixels\n",
      "Classe 37.0: 119810 pixels\n",
      "Classe 38.0: 131918 pixels\n",
      "Classe 39.0: 22989 pixels\n",
      "Classe 40.0: 131425 pixels\n",
      "Classe 41.0: 628452 pixels\n",
      "Classe 42.0: 16436 pixels\n",
      "Classe 43.0: 2726627 pixels\n",
      "Classe 44.0: 26473 pixels\n",
      "Classe 45.0: 477856 pixels\n",
      "Classe 46.0: 85896 pixels\n",
      "Classe 47.0: 1493462 pixels\n",
      "Classe 48.0: 109995 pixels\n",
      "Classe 49.0: 203590 pixels\n",
      "Classe 255.0: 2700 pixels\n"
     ]
    }
   ],
   "source": [
    "import h5py\n",
    "import torch\n",
    "from collections import Counter\n",
    "\n",
    "h5_path = \"data/Dataset.h5\"\n",
    "\n",
    "with h5py.File(\"/Users/placiermoise/Documents/dsw_proj/remote sensing crop classification/manual_jobs/dataset_val_train.h5\", 'r') as f:\n",
    "    Y = torch.tensor(f['labels'][:])  # Y: [N, H, W]\n",
    "\n",
    "# Aplatir tous les labels en un seul vecteur\n",
    "y_flat = Y.flatten().tolist()\n",
    "\n",
    "# Compter le nombre d'occurrences par classe\n",
    "class_counts = Counter(y_flat)\n",
    "\n",
    "print(\"Nombre d'instances par classe :\")\n",
    "for cls, count in sorted(class_counts.items()):\n",
    "    print(f\"Classe {cls}: {count} pixels\")"
   ]
  },
  {
   "cell_type": "code",
   "execution_count": 22,
   "metadata": {},
   "outputs": [
    {
     "data": {
      "text/plain": [
       "Counter({0.0: 11718020,\n",
       "         8.0: 8976364,\n",
       "         30.0: 5330944,\n",
       "         6.0: 2967772,\n",
       "         43.0: 2726627,\n",
       "         17.0: 2062228,\n",
       "         36.0: 1666374,\n",
       "         47.0: 1493462,\n",
       "         9.0: 1333572,\n",
       "         4.0: 747714,\n",
       "         28.0: 689084,\n",
       "         41.0: 628452,\n",
       "         45.0: 477856,\n",
       "         49.0: 203590,\n",
       "         31.0: 170163,\n",
       "         33.0: 162037,\n",
       "         38.0: 131918,\n",
       "         40.0: 131425,\n",
       "         37.0: 119810,\n",
       "         48.0: 109995,\n",
       "         27.0: 107608,\n",
       "         22.0: 100791,\n",
       "         7.0: 99263,\n",
       "         34.0: 99178,\n",
       "         14.0: 98330,\n",
       "         24.0: 91483,\n",
       "         46.0: 85896,\n",
       "         16.0: 59358,\n",
       "         13.0: 56286,\n",
       "         29.0: 51946,\n",
       "         10.0: 50023,\n",
       "         21.0: 47185,\n",
       "         2.0: 46675,\n",
       "         26.0: 46291,\n",
       "         25.0: 45640,\n",
       "         35.0: 44903,\n",
       "         32.0: 43973,\n",
       "         11.0: 41048,\n",
       "         18.0: 39777,\n",
       "         20.0: 31864,\n",
       "         5.0: 31198,\n",
       "         44.0: 26473,\n",
       "         15.0: 25367,\n",
       "         1.0: 24750,\n",
       "         39.0: 22989,\n",
       "         3.0: 22765,\n",
       "         42.0: 16436,\n",
       "         23.0: 15865,\n",
       "         19.0: 12938,\n",
       "         12.0: 8746})"
      ]
     },
     "execution_count": 22,
     "metadata": {},
     "output_type": "execute_result"
    }
   ],
   "source": [
    "class_counts.pop(255, None)\n",
    "class_counts"
   ]
  },
  {
   "cell_type": "code",
   "execution_count": 23,
   "metadata": {},
   "outputs": [
    {
     "name": "stderr",
     "output_type": "stream",
     "text": [
      "/var/folders/5y/cg3f72r56ndb2p52h64tts3m0000gn/T/ipykernel_65949/2076475499.py:64: FutureWarning: \n",
      "\n",
      "Passing `palette` without assigning `hue` is deprecated and will be removed in v0.14.0. Assign the `x` variable to `hue` and set `legend=False` for the same effect.\n",
      "\n",
      "  ax = sns.barplot(x=labels, y=counts, palette='mako')\n"
     ]
    },
    {
     "data": {
      "image/png": "[encoded data removed]",
      "text/plain": [
       "<Figure size 1400x600 with 1 Axes>"
      ]
     },
     "metadata": {},
     "output_type": "display_data"
    }
   ],
   "source": [
    "import seaborn as sns\n",
    "import matplotlib.pyplot as plt\n",
    "# Mapping vers noms lisibles (à adapter à ton dataset réel)\n",
    "label_map = {\n",
    "    1: \"Garlic\",\n",
    "    2: \"Winter_Oat\",\n",
    "    3: \"Spring_Oat\",\n",
    "    4: \"Winter_Durum_Wheat\",\n",
    "    5: \"Spring_Durum_Wheat\",\n",
    "    6: \"Meadow\",\n",
    "    7: \"Buffer_Strip\",\n",
    "    8: \"Winter_Wheat\",\n",
    "    9: \"Beet\",\n",
    "    10: \"Spring_Wheat\",\n",
    "    11: \"Carrot\",\n",
    "    12: \"Cucumber_Gherkin\",\n",
    "    13: \"Buckwheat\",\n",
    "    14: \"Sorghum\",\n",
    "    15: \"Winter_Rye\",\n",
    "    16: \"Fodder\",\n",
    "    17: \"Rapeseed\",\n",
    "    18: \"Spelt\",\n",
    "    19: \"Spinach\",\n",
    "    20: \"Annual_Vegetable_Fruit\",\n",
    "    21: \"Perennial_Vegetable_Fruit\",\n",
    "    23: \"Hops\",\n",
    "    24: \"Lavender_Lavandin\",\n",
    "    25: \"Lettuce_Batavia_Oak_Leaf\",\n",
    "    26: \"Grain_Lentil\",\n",
    "    27: \"Spring_Oil_Flax\",\n",
    "    28: \"Alfalfa\",\n",
    "    29: \"Forage_Legume_Cereal_Oilseed_Mix\",\n",
    "    30: \"Maize\",\n",
    "    31: \"Forage_Legume_Mix\",\n",
    "    32: \"Melon\",\n",
    "    33: \"Early_Proteaginous_Cereal_Mix\",\n",
    "    34: \"Onion_Shallot\",\n",
    "    35: \"Olive\",\n",
    "    36: \"Barley\",\n",
    "    37: \"Chickpea\",\n",
    "    38: \"Winter_Pea\",\n",
    "    39: \"Pumpkin_Red_Kuri\",\n",
    "    40: \"Early_Spring_Pea\",\n",
    "    41: \"Potato\",\n",
    "    42: \"Williams_Pear\",\n",
    "    43: \"Vineyard\",\n",
    "    44: \"Sainfoin\",\n",
    "    45: \"Soybean\",\n",
    "    46: \"Clover\",\n",
    "    47: \"Sunflower\",\n",
    "    48: \"Winter_Triticale\",\n",
    "    49: \"Orchard\",\n",
    "    0: \"Not a field crops\",      # Optional: Add NoData class if present\n",
    "    22: \"Other\",       # Those blank 22s — label generically\n",
    "}\n",
    "\n",
    "# --- Mapping et tri décroissant ---\n",
    "sorted_items = sorted(class_counts.items(), key=lambda x: x[1], reverse=True)\n",
    "labels = [label_map.get(int(k), f\"Class {int(k)}\") for k, _ in sorted_items]\n",
    "counts = [v for _, v in sorted_items]\n",
    "\n",
    "# --- Affichage en échelle logarithmique ---\n",
    "plt.figure(figsize=(14, 6))\n",
    "ax = sns.barplot(x=labels, y=counts, palette='mako')\n",
    "\n",
    "ax.set_yscale(\"log\")  # Échelle log ici\n",
    "plt.xticks(rotation=45, ha='right')\n",
    "plt.ylabel(\"Pixel Count (log scale)\")\n",
    "plt.title(\"Pixel Distribution per Class (Log Scale)\")\n",
    "plt.tight_layout()\n",
    "plt.show()"
   ]
  },
  {
   "cell_type": "code",
   "execution_count": 9,
   "metadata": {},
   "outputs": [
    {
     "name": "stdout",
     "output_type": "stream",
     "text": [
      "ID_Parcelles: shape=(18704, 24, 24), dtype=float32\n",
      "coords: shape=(18704, 2), dtype=float64\n",
      "data: shape=(18704, 12, 4, 24, 24), dtype=float32\n",
      "dates: shape=(18704,), dtype=object\n",
      "labels: shape=(18704, 24, 24), dtype=float32\n",
      "zones: shape=(18704,), dtype=object\n"
     ]
    }
   ],
   "source": [
    "import h5py\n",
    "\n",
    "# Ouvre le fichier\n",
    "with h5py.File('dataset_test.h5', 'r') as f:\n",
    "    # Liste les groupes/datasets au niveau racine\n",
    "    def print_structure(name, obj):\n",
    "        if isinstance(obj, h5py.Dataset):\n",
    "            print(f\"{name}: shape={obj.shape}, dtype={obj.dtype}\")\n",
    "        elif isinstance(obj, h5py.Group):\n",
    "            print(f\"{name} (Group)\")\n",
    "\n",
    "    f.visititems(print_structure)"
   ]
  },
  {
   "cell_type": "code",
   "execution_count": 80,
   "metadata": {},
   "outputs": [
    {
     "ename": "FileNotFoundError",
     "evalue": "[Errno 2] Unable to synchronously open file (unable to open file: name = '../data/Dataset.h5', errno = 2, error message = 'No such file or directory', flags = 0, o_flags = 0)",
     "output_type": "error",
     "traceback": [
      "\u001b[31m---------------------------------------------------------------------------\u001b[39m",
      "\u001b[31mFileNotFoundError\u001b[39m                         Traceback (most recent call last)",
      "\u001b[36mCell\u001b[39m\u001b[36m \u001b[39m\u001b[32mIn[80]\u001b[39m\u001b[32m, line 10\u001b[39m\n\u001b[32m      6\u001b[39m importlib.reload(data)\n\u001b[32m      8\u001b[39m \u001b[38;5;28;01mimport\u001b[39;00m\u001b[38;5;250m \u001b[39m\u001b[34;01mtorch\u001b[39;00m\n\u001b[32m---> \u001b[39m\u001b[32m10\u001b[39m train_loader, val_loader, test_loader = \u001b[43mget_dataset_3splits\u001b[49m\u001b[43m(\u001b[49m\n\u001b[32m     11\u001b[39m \u001b[43m    \u001b[49m\u001b[43mh5_path\u001b[49m\u001b[43m=\u001b[49m\u001b[33;43m\"\u001b[39;49m\u001b[33;43m../data/Dataset.h5\u001b[39;49m\u001b[33;43m\"\u001b[39;49m\u001b[43m,\u001b[49m\n\u001b[32m     12\u001b[39m \u001b[43m    \u001b[49m\u001b[43mdataset_type\u001b[49m\u001b[43m=\u001b[49m\u001b[33;43m\"\u001b[39;49m\u001b[33;43mrf\u001b[39;49m\u001b[33;43m\"\u001b[39;49m\u001b[43m,\u001b[49m\u001b[43m      \u001b[49m\u001b[38;5;66;43;03m# ou \"cnn\"\u001b[39;49;00m\n\u001b[32m     13\u001b[39m \u001b[43m    \u001b[49m\u001b[43mtest_split_on\u001b[49m\u001b[43m=\u001b[49m\u001b[33;43m\"\u001b[39;49m\u001b[33;43mzone\u001b[39;49m\u001b[33;43m\"\u001b[39;49m\u001b[43m,\u001b[49m\n\u001b[32m     14\u001b[39m \u001b[43m    \u001b[49m\u001b[43mbatch_size\u001b[49m\u001b[43m=\u001b[49m\u001b[32;43m8\u001b[39;49m\u001b[43m,\u001b[49m\n\u001b[32m     15\u001b[39m \u001b[43m    \u001b[49m\u001b[43mval_ratio\u001b[49m\u001b[43m=\u001b[49m\u001b[32;43m0.1\u001b[39;49m\u001b[43m,\u001b[49m\n\u001b[32m     16\u001b[39m \u001b[43m    \u001b[49m\u001b[43mtest_ratio\u001b[49m\u001b[43m=\u001b[49m\u001b[32;43m0.2\u001b[39;49m\u001b[43m,\u001b[49m\n\u001b[32m     17\u001b[39m \u001b[43m    \u001b[49m\u001b[43mseed\u001b[49m\u001b[43m=\u001b[49m\u001b[32;43m42\u001b[39;49m\n\u001b[32m     18\u001b[39m \u001b[43m)\u001b[49m\n\u001b[32m     21\u001b[39m \u001b[38;5;66;03m# Récupère un batch du train loader\u001b[39;00m\n\u001b[32m     22\u001b[39m batch = \u001b[38;5;28mnext\u001b[39m(\u001b[38;5;28miter\u001b[39m(train_loader))\n",
      "\u001b[36mFile \u001b[39m\u001b[32m~/Documents/dsw_proj/remote sensing crop classification/manual_jobs/../src/data.py:91\u001b[39m, in \u001b[36mget_dataset_3splits\u001b[39m\u001b[34m(h5_path, dataset_type, test_split_on, val_ratio, test_ratio, batch_size, transform, seed)\u001b[39m\n\u001b[32m     89\u001b[39m     dataset = CropCnnDataset(h5_path, transform=transform)\n\u001b[32m     90\u001b[39m \u001b[38;5;28;01melif\u001b[39;00m dataset_type == \u001b[33m\"\u001b[39m\u001b[33mrf\u001b[39m\u001b[33m\"\u001b[39m:\n\u001b[32m---> \u001b[39m\u001b[32m91\u001b[39m     dataset = \u001b[43mCropTabularDataset\u001b[49m\u001b[43m(\u001b[49m\u001b[43mh5_path\u001b[49m\u001b[43m,\u001b[49m\u001b[43m \u001b[49m\u001b[43mtransform\u001b[49m\u001b[43m=\u001b[49m\u001b[43mtransform\u001b[49m\u001b[43m)\u001b[49m\n\u001b[32m     92\u001b[39m     batch_size = \u001b[38;5;28mlen\u001b[39m(dataset)\n\u001b[32m     93\u001b[39m \u001b[38;5;28;01melse\u001b[39;00m:\n",
      "\u001b[36mFile \u001b[39m\u001b[32m~/Documents/dsw_proj/remote sensing crop classification/manual_jobs/../src/data.py:20\u001b[39m, in \u001b[36mCropTabularDataset.__init__\u001b[39m\u001b[34m(self, h5_path, transform)\u001b[39m\n\u001b[32m     19\u001b[39m \u001b[38;5;28;01mdef\u001b[39;00m\u001b[38;5;250m \u001b[39m\u001b[34m__init__\u001b[39m(\u001b[38;5;28mself\u001b[39m, h5_path, transform=\u001b[38;5;28;01mNone\u001b[39;00m):\n\u001b[32m---> \u001b[39m\u001b[32m20\u001b[39m     \u001b[38;5;28;01mwith\u001b[39;00m \u001b[43mh5py\u001b[49m\u001b[43m.\u001b[49m\u001b[43mFile\u001b[49m\u001b[43m(\u001b[49m\u001b[43mh5_path\u001b[49m\u001b[43m,\u001b[49m\u001b[43m \u001b[49m\u001b[33;43m'\u001b[39;49m\u001b[33;43mr\u001b[39;49m\u001b[33;43m'\u001b[39;49m\u001b[43m)\u001b[49m \u001b[38;5;28;01mas\u001b[39;00m hf:\n\u001b[32m     21\u001b[39m         \u001b[38;5;28mself\u001b[39m.X = hf[\u001b[33m'\u001b[39m\u001b[33mdata\u001b[39m\u001b[33m'\u001b[39m][:]  \u001b[38;5;66;03m# [N, T, C, H, W]\u001b[39;00m\n\u001b[32m     22\u001b[39m         \u001b[38;5;28mself\u001b[39m.Y = hf[\u001b[33m'\u001b[39m\u001b[33mlabels\u001b[39m\u001b[33m'\u001b[39m][:]  \u001b[38;5;66;03m# [N, H, W]\u001b[39;00m\n",
      "\u001b[36mFile \u001b[39m\u001b[32m~/Documents/dsw_proj/remote sensing crop classification/.venv/lib/python3.13/site-packages/h5py/_hl/files.py:564\u001b[39m, in \u001b[36mFile.__init__\u001b[39m\u001b[34m(self, name, mode, driver, libver, userblock_size, swmr, rdcc_nslots, rdcc_nbytes, rdcc_w0, track_order, fs_strategy, fs_persist, fs_threshold, fs_page_size, page_buf_size, min_meta_keep, min_raw_keep, locking, alignment_threshold, alignment_interval, meta_block_size, **kwds)\u001b[39m\n\u001b[32m    555\u001b[39m     fapl = make_fapl(driver, libver, rdcc_nslots, rdcc_nbytes, rdcc_w0,\n\u001b[32m    556\u001b[39m                      locking, page_buf_size, min_meta_keep, min_raw_keep,\n\u001b[32m    557\u001b[39m                      alignment_threshold=alignment_threshold,\n\u001b[32m    558\u001b[39m                      alignment_interval=alignment_interval,\n\u001b[32m    559\u001b[39m                      meta_block_size=meta_block_size,\n\u001b[32m    560\u001b[39m                      **kwds)\n\u001b[32m    561\u001b[39m     fcpl = make_fcpl(track_order=track_order, fs_strategy=fs_strategy,\n\u001b[32m    562\u001b[39m                      fs_persist=fs_persist, fs_threshold=fs_threshold,\n\u001b[32m    563\u001b[39m                      fs_page_size=fs_page_size)\n\u001b[32m--> \u001b[39m\u001b[32m564\u001b[39m     fid = \u001b[43mmake_fid\u001b[49m\u001b[43m(\u001b[49m\u001b[43mname\u001b[49m\u001b[43m,\u001b[49m\u001b[43m \u001b[49m\u001b[43mmode\u001b[49m\u001b[43m,\u001b[49m\u001b[43m \u001b[49m\u001b[43muserblock_size\u001b[49m\u001b[43m,\u001b[49m\u001b[43m \u001b[49m\u001b[43mfapl\u001b[49m\u001b[43m,\u001b[49m\u001b[43m \u001b[49m\u001b[43mfcpl\u001b[49m\u001b[43m,\u001b[49m\u001b[43m \u001b[49m\u001b[43mswmr\u001b[49m\u001b[43m=\u001b[49m\u001b[43mswmr\u001b[49m\u001b[43m)\u001b[49m\n\u001b[32m    566\u001b[39m \u001b[38;5;28;01mif\u001b[39;00m \u001b[38;5;28misinstance\u001b[39m(libver, \u001b[38;5;28mtuple\u001b[39m):\n\u001b[32m    567\u001b[39m     \u001b[38;5;28mself\u001b[39m._libver = libver\n",
      "\u001b[36mFile \u001b[39m\u001b[32m~/Documents/dsw_proj/remote sensing crop classification/.venv/lib/python3.13/site-packages/h5py/_hl/files.py:238\u001b[39m, in \u001b[36mmake_fid\u001b[39m\u001b[34m(name, mode, userblock_size, fapl, fcpl, swmr)\u001b[39m\n\u001b[32m    236\u001b[39m     \u001b[38;5;28;01mif\u001b[39;00m swmr \u001b[38;5;129;01mand\u001b[39;00m swmr_support:\n\u001b[32m    237\u001b[39m         flags |= h5f.ACC_SWMR_READ\n\u001b[32m--> \u001b[39m\u001b[32m238\u001b[39m     fid = \u001b[43mh5f\u001b[49m\u001b[43m.\u001b[49m\u001b[43mopen\u001b[49m\u001b[43m(\u001b[49m\u001b[43mname\u001b[49m\u001b[43m,\u001b[49m\u001b[43m \u001b[49m\u001b[43mflags\u001b[49m\u001b[43m,\u001b[49m\u001b[43m \u001b[49m\u001b[43mfapl\u001b[49m\u001b[43m=\u001b[49m\u001b[43mfapl\u001b[49m\u001b[43m)\u001b[49m\n\u001b[32m    239\u001b[39m \u001b[38;5;28;01melif\u001b[39;00m mode == \u001b[33m'\u001b[39m\u001b[33mr+\u001b[39m\u001b[33m'\u001b[39m:\n\u001b[32m    240\u001b[39m     fid = h5f.open(name, h5f.ACC_RDWR, fapl=fapl)\n",
      "\u001b[36mFile \u001b[39m\u001b[32mh5py/_objects.pyx:56\u001b[39m, in \u001b[36mh5py._objects.with_phil.wrapper\u001b[39m\u001b[34m()\u001b[39m\n",
      "\u001b[36mFile \u001b[39m\u001b[32mh5py/_objects.pyx:57\u001b[39m, in \u001b[36mh5py._objects.with_phil.wrapper\u001b[39m\u001b[34m()\u001b[39m\n",
      "\u001b[36mFile \u001b[39m\u001b[32mh5py/h5f.pyx:102\u001b[39m, in \u001b[36mh5py.h5f.open\u001b[39m\u001b[34m()\u001b[39m\n",
      "\u001b[31mFileNotFoundError\u001b[39m: [Errno 2] Unable to synchronously open file (unable to open file: name = '../data/Dataset.h5', errno = 2, error message = 'No such file or directory', flags = 0, o_flags = 0)"
     ]
    }
   ],
   "source": [
    "import sys\n",
    "sys.path.append(\"../data\")\n",
    "import data\n",
    "from data import get_dataset_3splits\n",
    "import importlib\n",
    "importlib.reload(data)\n",
    "\n",
    "import torch\n",
    "\n",
    "train_loader, val_loader, test_loader = get_dataset_3splits(\n",
    "    h5_path=\"../data/Dataset.h5\",\n",
    "    dataset_type=\"rf\",      # ou \"cnn\"\n",
    "    test_split_on=\"zone\",\n",
    "    batch_size=8,\n",
    "    val_ratio=0.1,\n",
    "    test_ratio=0.2,\n",
    "    seed=42\n",
    ")\n",
    "\n",
    "\n",
    "# Récupère un batch du train loader\n",
    "batch = next(iter(train_loader))\n",
    "x, y = batch\n",
    "\n",
    "print(\"x shape:\", x.shape)\n",
    "print(\"y shape:\", y.shape)\n",
    "print(\"x dtype:\", x.dtype)\n",
    "print(\"y dtype:\", y.dtype)\n",
    "print(\"y unique labels:\", torch.unique(y))"
   ]
  },
  {
   "cell_type": "code",
   "execution_count": 11,
   "metadata": {},
   "outputs": [
    {
     "ename": "FileNotFoundError",
     "evalue": "[Errno 2] No such file or directory: 'URL=vscode-remote://ssh-remote%2Bkubernetes/storage/courses/CropIdentification/DSWProject_CropIdentification/models/best_model_cnn.pth'",
     "output_type": "error",
     "traceback": [
      "\u001b[31m---------------------------------------------------------------------------\u001b[39m",
      "\u001b[31mFileNotFoundError\u001b[39m                         Traceback (most recent call last)",
      "\u001b[36mCell\u001b[39m\u001b[36m \u001b[39m\u001b[32mIn[11]\u001b[39m\u001b[32m, line 1\u001b[39m\n\u001b[32m----> \u001b[39m\u001b[32m1\u001b[39m model = \u001b[43mtorch\u001b[49m\u001b[43m.\u001b[49m\u001b[43mload\u001b[49m\u001b[43m(\u001b[49m\u001b[33;43m'\u001b[39;49m\u001b[33;43mURL=vscode-remote://ssh-remote\u001b[39;49m\u001b[33;43m%\u001b[39;49m\u001b[33;43m2Bkubernetes/storage/courses/CropIdentification/DSWProject_CropIdentification/models/best_model_cnn.pth\u001b[39;49m\u001b[33;43m'\u001b[39;49m\u001b[43m)\u001b[49m\n",
      "\u001b[36mFile \u001b[39m\u001b[32m~/Documents/dsw_proj/remote sensing crop classification/.venv/lib/python3.13/site-packages/torch/serialization.py:1479\u001b[39m, in \u001b[36mload\u001b[39m\u001b[34m(f, map_location, pickle_module, weights_only, mmap, **pickle_load_args)\u001b[39m\n\u001b[32m   1476\u001b[39m \u001b[38;5;28;01mif\u001b[39;00m \u001b[33m\"\u001b[39m\u001b[33mencoding\u001b[39m\u001b[33m\"\u001b[39m \u001b[38;5;129;01mnot\u001b[39;00m \u001b[38;5;129;01min\u001b[39;00m pickle_load_args.keys():\n\u001b[32m   1477\u001b[39m     pickle_load_args[\u001b[33m\"\u001b[39m\u001b[33mencoding\u001b[39m\u001b[33m\"\u001b[39m] = \u001b[33m\"\u001b[39m\u001b[33mutf-8\u001b[39m\u001b[33m\"\u001b[39m\n\u001b[32m-> \u001b[39m\u001b[32m1479\u001b[39m \u001b[38;5;28;01mwith\u001b[39;00m \u001b[43m_open_file_like\u001b[49m\u001b[43m(\u001b[49m\u001b[43mf\u001b[49m\u001b[43m,\u001b[49m\u001b[43m \u001b[49m\u001b[33;43m\"\u001b[39;49m\u001b[33;43mrb\u001b[39;49m\u001b[33;43m\"\u001b[39;49m\u001b[43m)\u001b[49m \u001b[38;5;28;01mas\u001b[39;00m opened_file:\n\u001b[32m   1480\u001b[39m     \u001b[38;5;28;01mif\u001b[39;00m _is_zipfile(opened_file):\n\u001b[32m   1481\u001b[39m         \u001b[38;5;66;03m# The zipfile reader is going to advance the current file position.\u001b[39;00m\n\u001b[32m   1482\u001b[39m         \u001b[38;5;66;03m# If we want to actually tail call to torch.jit.load, we need to\u001b[39;00m\n\u001b[32m   1483\u001b[39m         \u001b[38;5;66;03m# reset back to the original position.\u001b[39;00m\n\u001b[32m   1484\u001b[39m         orig_position = opened_file.tell()\n",
      "\u001b[36mFile \u001b[39m\u001b[32m~/Documents/dsw_proj/remote sensing crop classification/.venv/lib/python3.13/site-packages/torch/serialization.py:759\u001b[39m, in \u001b[36m_open_file_like\u001b[39m\u001b[34m(name_or_buffer, mode)\u001b[39m\n\u001b[32m    757\u001b[39m \u001b[38;5;28;01mdef\u001b[39;00m\u001b[38;5;250m \u001b[39m\u001b[34m_open_file_like\u001b[39m(name_or_buffer: FileLike, mode: \u001b[38;5;28mstr\u001b[39m) -> _opener[IO[\u001b[38;5;28mbytes\u001b[39m]]:\n\u001b[32m    758\u001b[39m     \u001b[38;5;28;01mif\u001b[39;00m _is_path(name_or_buffer):\n\u001b[32m--> \u001b[39m\u001b[32m759\u001b[39m         \u001b[38;5;28;01mreturn\u001b[39;00m \u001b[43m_open_file\u001b[49m\u001b[43m(\u001b[49m\u001b[43mname_or_buffer\u001b[49m\u001b[43m,\u001b[49m\u001b[43m \u001b[49m\u001b[43mmode\u001b[49m\u001b[43m)\u001b[49m\n\u001b[32m    760\u001b[39m     \u001b[38;5;28;01melse\u001b[39;00m:\n\u001b[32m    761\u001b[39m         \u001b[38;5;28;01mif\u001b[39;00m \u001b[33m\"\u001b[39m\u001b[33mw\u001b[39m\u001b[33m\"\u001b[39m \u001b[38;5;129;01min\u001b[39;00m mode:\n",
      "\u001b[36mFile \u001b[39m\u001b[32m~/Documents/dsw_proj/remote sensing crop classification/.venv/lib/python3.13/site-packages/torch/serialization.py:740\u001b[39m, in \u001b[36m_open_file.__init__\u001b[39m\u001b[34m(self, name, mode)\u001b[39m\n\u001b[32m    739\u001b[39m \u001b[38;5;28;01mdef\u001b[39;00m\u001b[38;5;250m \u001b[39m\u001b[34m__init__\u001b[39m(\u001b[38;5;28mself\u001b[39m, name: Union[\u001b[38;5;28mstr\u001b[39m, os.PathLike[\u001b[38;5;28mstr\u001b[39m]], mode: \u001b[38;5;28mstr\u001b[39m) -> \u001b[38;5;28;01mNone\u001b[39;00m:\n\u001b[32m--> \u001b[39m\u001b[32m740\u001b[39m     \u001b[38;5;28msuper\u001b[39m().\u001b[34m__init__\u001b[39m(\u001b[38;5;28;43mopen\u001b[39;49m\u001b[43m(\u001b[49m\u001b[43mname\u001b[49m\u001b[43m,\u001b[49m\u001b[43m \u001b[49m\u001b[43mmode\u001b[49m\u001b[43m)\u001b[49m)\n",
      "\u001b[31mFileNotFoundError\u001b[39m: [Errno 2] No such file or directory: 'URL=vscode-remote://ssh-remote%2Bkubernetes/storage/courses/CropIdentification/DSWProject_CropIdentification/models/best_model_cnn.pth'"
     ]
    }
   ],
   "source": [
    "model = torch.load('URL=vscode-remote://ssh-remote%2Bkubernetes/storage/courses/CropIdentification/DSWProject_CropIdentification/models/best_model_cnn.pth')"
   ]
  }
 ],
 "metadata": {
  "kernelspec": {
   "display_name": ".venv",
   "language": "python",
   "name": "python3"
  },
  "language_info": {
   "codemirror_mode": {
    "name": "ipython",
    "version": 3
   },
   "file_extension": ".py",
   "mimetype": "text/x-python",
   "name": "python",
   "nbconvert_exporter": "python",
   "pygments_lexer": "ipython3",
   "version": "3.13.5"
  }
 },
 "nbformat": 4,
 "nbformat_minor": 2
}
